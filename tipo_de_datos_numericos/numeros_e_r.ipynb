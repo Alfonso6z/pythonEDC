{
 "cells": [
  {
   "cell_type": "markdown",
   "metadata": {},
   "source": [
    "# Clases en python\n",
    "Todos los tipos de datos en **python** son _clases_ y las clases numericas son inmutables"
   ]
  },
  {
   "cell_type": "code",
   "execution_count": 10,
   "metadata": {},
   "outputs": [
    {
     "data": {
      "text/plain": [
       "float"
      ]
     },
     "execution_count": 10,
     "metadata": {},
     "output_type": "execute_result"
    }
   ],
   "source": [
    "a = 6.7\n",
    "# nos muestra el tipo de clase\n",
    "type(a)"
   ]
  },
  {
   "cell_type": "code",
   "execution_count": 12,
   "metadata": {},
   "outputs": [
    {
     "data": {
      "text/plain": [
       "2347642251568"
      ]
     },
     "execution_count": 12,
     "metadata": {},
     "output_type": "execute_result"
    }
   ],
   "source": [
    "# nos indica id del espacio de memoria\n",
    "id(a)"
   ]
  },
  {
   "cell_type": "code",
   "execution_count": 13,
   "metadata": {},
   "outputs": [
    {
     "data": {
      "text/plain": [
       "2347642245808"
      ]
     },
     "execution_count": 13,
     "metadata": {},
     "output_type": "execute_result"
    }
   ],
   "source": [
    "a = 36.3\n",
    "id(a)"
   ]
  },
  {
   "cell_type": "code",
   "execution_count": 14,
   "metadata": {},
   "outputs": [
    {
     "data": {
      "text/plain": [
       "2347642245808"
      ]
     },
     "execution_count": 14,
     "metadata": {},
     "output_type": "execute_result"
    }
   ],
   "source": [
    "id(a)"
   ]
  },
  {
   "cell_type": "markdown",
   "metadata": {},
   "source": [
    "Tipos de clases numerica en python"
   ]
  },
  {
   "cell_type": "code",
   "execution_count": 4,
   "metadata": {},
   "outputs": [
    {
     "name": "stdout",
     "output_type": "stream",
     "text": [
      "56671\n",
      "5.2\n",
      "244140625\n",
      "(5+4j)\n"
     ]
    }
   ],
   "source": [
    "entero = 56654+8+9\n",
    "flotante = 5.2\n",
    "long_n = pow(5,12)\n",
    "complejo = 5 + 4j\n",
    "print(entero)\n",
    "print(flotante)\n",
    "print(long_n)\n",
    "print(complejo)"
   ]
  },
  {
   "cell_type": "code",
   "execution_count": 5,
   "metadata": {},
   "outputs": [
    {
     "name": "stdout",
     "output_type": "stream",
     "text": [
      " 56671 el tipo = <class 'int'>\n",
      " 5.2 el tipo = <class 'float'>\n",
      " 244140625 el tipo = <class 'int'>\n",
      " (5+4j) el tipo = <class 'complex'>\n"
     ]
    }
   ],
   "source": [
    "# mostrar el tipo de dato\n",
    "print(f\" {entero} el tipo = {type(entero)}\")\n",
    "print(f\" {flotante} el tipo = {type(flotante)}\")\n",
    "print(f\" {long_n} el tipo = {type(long_n)}\")\n",
    "print(f\" {complejo} el tipo = {type(complejo)}\")"
   ]
  },
  {
   "cell_type": "markdown",
   "metadata": {},
   "source": [
    "## Casting o cast\n"
   ]
  },
  {
   "cell_type": "code",
   "execution_count": 20,
   "metadata": {},
   "outputs": [
    {
     "name": "stdout",
     "output_type": "stream",
     "text": [
      "Hola mundo\n"
     ]
    },
    {
     "data": {
      "text/plain": [
       "str"
      ]
     },
     "execution_count": 20,
     "metadata": {},
     "output_type": "execute_result"
    }
   ],
   "source": [
    "'''\n",
    "    Escribir \"Hola mundo\" => print(\"Hola Mudo\")\n",
    "    \n",
    "    Escribir \"Ingresa un saludo\"\n",
    "    Leer saludo           => saludo = input(\"Ingresa un saludo\")\n",
    "'''\n",
    "saludo = input(\"Ingresa un saludo\")\n",
    "print(saludo)\n",
    "type(saludo)\n"
   ]
  },
  {
   "cell_type": "markdown",
   "metadata": {},
   "source": [
    "# sumar dos números"
   ]
  },
  {
   "cell_type": "code",
   "execution_count": 27,
   "metadata": {},
   "outputs": [
    {
     "name": "stdout",
     "output_type": "stream",
     "text": [
      "<class 'str'>\n",
      "<class 'str'>\n",
      "El resultado es = 55\n"
     ]
    }
   ],
   "source": [
    "# con entrada input:str\n",
    "n1 = input(\"Ingresa el primer número\")\n",
    "n2 = input(\"Ingresa el segundo número\")\n",
    "print(type(n1))\n",
    "print(type(n2))\n",
    "suma = n1 + n2\n",
    "print(\"El resultado es =\",suma)"
   ]
  },
  {
   "cell_type": "code",
   "execution_count": 31,
   "metadata": {},
   "outputs": [
    {
     "name": "stdout",
     "output_type": "stream",
     "text": [
      "<class 'int'>\n",
      "<class 'int'>\n",
      "El resultado es = 11\n"
     ]
    }
   ],
   "source": [
    "n1 = int(input(\"Ingresa el primer número\"))\n",
    "n2 = int(input(\"Ingresa el segundo número\"))\n",
    "print(type(n1))\n",
    "print(type(n2))\n",
    "suma = n1 + n2\n",
    "print(\"El resultado es =\",suma)"
   ]
  },
  {
   "cell_type": "markdown",
   "metadata": {},
   "source": [
    "# Formulario datos personales"
   ]
  },
  {
   "cell_type": "code",
   "execution_count": 34,
   "metadata": {},
   "outputs": [
    {
     "name": "stdout",
     "output_type": "stream",
     "text": [
      "nombre =  asdf\n",
      "edad =  20\n",
      "direccion =  asdf\n",
      "telefono =  asdf\n",
      "Si es mayor de edad\n"
     ]
    }
   ],
   "source": [
    "nombre = input(\"Nombre\")\n",
    "edad = input(\"Edad\")\n",
    "direccion = input(\"Dirección\")\n",
    "telefono = input(\"Telefono\")\n",
    "print(\"nombre = \",nombre)\n",
    "print(\"edad = \",edad)\n",
    "print(\"direccion = \",direccion)\n",
    "print(\"telefono = \",telefono)\n",
    "\n",
    "if int(edad) >= 18:\n",
    "    print(\"Si es mayor de edad\")\n"
   ]
  },
  {
   "cell_type": "code",
   "execution_count": 37,
   "metadata": {},
   "outputs": [
    {
     "name": "stdout",
     "output_type": "stream",
     "text": [
      "8\n",
      "<class 'int'>\n",
      "8\n",
      "<class 'float'>\n",
      "8.0\n",
      "<class 'complex'>\n",
      "(8+0j)\n",
      "<class 'str'>\n",
      "(8+0j)  es un complejo\n"
     ]
    }
   ],
   "source": [
    "a = 8\n",
    "print(a)\n",
    "print(type(a))\n",
    "print(a)\n",
    "a = float(a)\n",
    "print(type(a))\n",
    "print(a)\n",
    "a = complex(a)\n",
    "print(type(a))\n",
    "print(a)\n",
    "a = str(a)\n",
    "print(type(a))\n",
    "print(a+\"  es un complejo\")\n"
   ]
  },
  {
   "cell_type": "markdown",
   "metadata": {},
   "source": []
  },
  {
   "cell_type": "code",
   "execution_count": null,
   "metadata": {},
   "outputs": [],
   "source": []
  }
 ],
 "metadata": {
  "kernelspec": {
   "display_name": "Python 3.10.4 64-bit",
   "language": "python",
   "name": "python3"
  },
  "language_info": {
   "codemirror_mode": {
    "name": "ipython",
    "version": 3
   },
   "file_extension": ".py",
   "mimetype": "text/x-python",
   "name": "python",
   "nbconvert_exporter": "python",
   "pygments_lexer": "ipython3",
   "version": "3.10.4"
  },
  "orig_nbformat": 4,
  "vscode": {
   "interpreter": {
    "hash": "9524c4952dd211fec7df7c73b3afac2dbc89a267f70352ce6257a0999e7cce99"
   }
  }
 },
 "nbformat": 4,
 "nbformat_minor": 2
}
