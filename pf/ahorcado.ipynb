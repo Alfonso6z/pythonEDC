{
 "cells": [
  {
   "cell_type": "markdown",
   "metadata": {},
   "source": [
    "# Ideas Ahorcado"
   ]
  },
  {
   "cell_type": "markdown",
   "metadata": {},
   "source": [
    "Crear diccionario de categorias y palabras"
   ]
  },
  {
   "cell_type": "code",
   "execution_count": 29,
   "metadata": {},
   "outputs": [],
   "source": [
    "palabras = {\n",
    "    \"animales\":[\"perro\",\"gato\",\"torutuga\",\"cocodrilo\",\"cucaracha\"],\n",
    "    \"paises\":[\"Mexico\",\"Estados Unidos\",\"Chila\"],\n",
    "    \"cosas\":[\"Lapiz\",\"mause\"]\n",
    "    }"
   ]
  },
  {
   "cell_type": "markdown",
   "metadata": {},
   "source": [
    "## Elegir categoria"
   ]
  },
  {
   "cell_type": "code",
   "execution_count": 43,
   "metadata": {},
   "outputs": [
    {
     "name": "stdout",
     "output_type": "stream",
     "text": [
      "\n",
      "1.- Animales\n",
      "2.- Paises\n",
      "3.- Cossas\n",
      "4.- aleatorio\n",
      "\n"
     ]
    },
    {
     "data": {
      "text/plain": [
       "['perro', 'gato', 'torutuga', 'cocodrilo', 'cucaracha']"
      ]
     },
     "execution_count": 43,
     "metadata": {},
     "output_type": "execute_result"
    }
   ],
   "source": [
    "import random as r\n",
    "categorias =[\"animales\",\"paises\",\"cosas\"]\n",
    "menu = \"\"\"\n",
    "1.- Animales\n",
    "2.- Paises\n",
    "3.- Cossas\n",
    "4.- aleatorio\n",
    "\"\"\"\n",
    "print(menu)\n",
    "opt = int(input(\"Elige una categoria: \"))\n",
    "if opt == 4:\n",
    "    categoria = categorias[r.randint(0,len(categorias)-1)] # aleatorios del 0 al 2\n",
    "else:\n",
    "    categoria = categorias[opt-1]\n",
    "palabras[categoria]"
   ]
  },
  {
   "cell_type": "markdown",
   "metadata": {},
   "source": [
    "## Elegir Palabra"
   ]
  },
  {
   "cell_type": "code",
   "execution_count": 52,
   "metadata": {},
   "outputs": [
    {
     "name": "stdout",
     "output_type": "stream",
     "text": [
      "perro\n"
     ]
    }
   ],
   "source": [
    "## simular función\n",
    "lista_palabras = palabras[categoria]\n",
    "select_ra = r.randint(0,len(lista_palabras)-1)\n",
    "palabra_adivinar = lista_palabras[select_ra]\n",
    "print(palabra_adivinar)"
   ]
  },
  {
   "cell_type": "markdown",
   "metadata": {},
   "source": [
    "## Imprimir guienes de palabra"
   ]
  },
  {
   "cell_type": "code",
   "execution_count": 58,
   "metadata": {},
   "outputs": [
    {
     "name": "stdout",
     "output_type": "stream",
     "text": [
      "_ _ _ _ _ \n"
     ]
    }
   ],
   "source": [
    "adivinar = \"\"\n",
    "for i in palabra_adivinar:\n",
    "    adivinar+=\"_ \"\n",
    "print(adivinar)"
   ]
  },
  {
   "cell_type": "code",
   "execution_count": 93,
   "metadata": {},
   "outputs": [
    {
     "name": "stdout",
     "output_type": "stream",
     "text": [
      "True\n",
      "_ e _ _ _ \n"
     ]
    }
   ],
   "source": [
    "letra = input(\"Adivinar: \")\n",
    "aux = \"\"\n",
    "print(letra in palabra_adivinar)\n",
    "if letra in palabra_adivinar:\n",
    "    posicion = palabra_adivinar.index(letra)\n",
    "    # p - 0, e - 1, r - 2 ,r - 3, o - 4\n",
    "    # p - 0, e - 2, r - 4 ,r - 6, o - 8\n",
    "    for i in range(len(adivinar)):\n",
    "        if i != posicion*2:\n",
    "            aux+=adivinar[i]\n",
    "        else:\n",
    "            aux+=letra\n",
    "print(aux)"
   ]
  }
 ],
 "metadata": {
  "interpreter": {
   "hash": "09a5361423988323be33916b79028fd207b3fc6201bd1305bb57c30a02c00c21"
  },
  "kernelspec": {
   "display_name": "Python 3.9.12 ('base')",
   "language": "python",
   "name": "python3"
  },
  "language_info": {
   "codemirror_mode": {
    "name": "ipython",
    "version": 3
   },
   "file_extension": ".py",
   "mimetype": "text/x-python",
   "name": "python",
   "nbconvert_exporter": "python",
   "pygments_lexer": "ipython3",
   "version": "3.9.12"
  },
  "orig_nbformat": 4
 },
 "nbformat": 4,
 "nbformat_minor": 2
}
