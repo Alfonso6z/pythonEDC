{
 "cells": [
  {
   "cell_type": "markdown",
   "metadata": {},
   "source": [
    "# Funciones de primera clase"
   ]
  },
  {
   "cell_type": "markdown",
   "metadata": {},
   "source": [
    "#### Multiplos de x"
   ]
  },
  {
   "cell_type": "code",
   "execution_count": 1,
   "metadata": {},
   "outputs": [],
   "source": [
    "def contruir_multiplos(pepito):\n",
    "    def interno(valor):\n",
    "        return valor * pepito\n",
    "    return interno"
   ]
  },
  {
   "cell_type": "code",
   "execution_count": 2,
   "metadata": {},
   "outputs": [],
   "source": [
    "multiplos_de_2 = contruir_multiplos(2)\n",
    "multiplos_de_3 = contruir_multiplos(3)\n",
    "multiplos_de_10 = contruir_multiplos(10)"
   ]
  },
  {
   "cell_type": "code",
   "execution_count": 4,
   "metadata": {},
   "outputs": [
    {
     "name": "stdout",
     "output_type": "stream",
     "text": [
      "10\n",
      "18\n",
      "70\n"
     ]
    }
   ],
   "source": [
    "print(multiplos_de_2(5))\n",
    "print(multiplos_de_3(6))\n",
    "print(multiplos_de_10(7))"
   ]
  },
  {
   "cell_type": "markdown",
   "metadata": {},
   "source": [
    "#### Saludar otros lenguajes"
   ]
  },
  {
   "cell_type": "code",
   "execution_count": 13,
   "metadata": {},
   "outputs": [],
   "source": [
    "def saludar(lang):\n",
    "    def saludar_es(factor):\n",
    "        print(f\"Hola {factor}\")\n",
    "    def saludar_en():\n",
    "        print(\"Hi\")\n",
    "    def saludar_fr():\n",
    "        print(\"Salut\")\n",
    "    def saludar_it():\n",
    "        print(\"Ciao\")\n",
    "    def saludar_ep():\n",
    "        print(\"Saluton\")\n",
    "    def saludar_jp():\n",
    "        print(\"konnychiwa\")\n",
    "    def saludar_al():\n",
    "        print(\"hallo\")\n",
    "    lang_func = {\n",
    "        \"es\":saludar_es,\n",
    "        \"en\":saludar_en,\n",
    "        \"fr\":saludar_fr,\n",
    "        \"it\":saludar_it,\n",
    "        \"ep\":saludar_ep,\n",
    "        \"jp\":saludar_jp,\n",
    "        \"al\":saludar_al\n",
    "    }\n",
    "    return lang_func[lang]\n",
    "\n",
    "japones = saludar(\"jp\") #-> saludar_es\n",
    "aleman = saludar(\"al\") #-> saludar_es\n",
    "espanol = saludar(\"es\") #-> saludar_es\n",
    "esperanto = saludar(\"ep\") #-> saludar_es\n"
   ]
  },
  {
   "cell_type": "code",
   "execution_count": 15,
   "metadata": {},
   "outputs": [
    {
     "name": "stdout",
     "output_type": "stream",
     "text": [
      "konnychiwa\n",
      "hallo\n",
      "Hola Alfonso\n",
      "Saluton\n"
     ]
    }
   ],
   "source": [
    "japones()\n",
    "aleman()\n",
    "espanol(\"Alfonso\")\n",
    "esperanto()\n"
   ]
  },
  {
   "cell_type": "code",
   "execution_count": null,
   "metadata": {},
   "outputs": [],
   "source": []
  }
 ],
 "metadata": {
  "interpreter": {
   "hash": "9524c4952dd211fec7df7c73b3afac2dbc89a267f70352ce6257a0999e7cce99"
  },
  "kernelspec": {
   "display_name": "Python 3.10.4 64-bit",
   "language": "python",
   "name": "python3"
  },
  "language_info": {
   "codemirror_mode": {
    "name": "ipython",
    "version": 3
   },
   "file_extension": ".py",
   "mimetype": "text/x-python",
   "name": "python",
   "nbconvert_exporter": "python",
   "pygments_lexer": "ipython3",
   "version": "3.10.4"
  },
  "orig_nbformat": 4
 },
 "nbformat": 4,
 "nbformat_minor": 2
}
