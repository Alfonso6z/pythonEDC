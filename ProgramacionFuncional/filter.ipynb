{
 "cells": [
  {
   "cell_type": "markdown",
   "metadata": {},
   "source": [
    "# Filter"
   ]
  },
  {
   "cell_type": "markdown",
   "metadata": {},
   "source": [
    "### lista"
   ]
  },
  {
   "cell_type": "code",
   "execution_count": null,
   "metadata": {},
   "outputs": [],
   "source": [
    "superheroes = [\n",
    "    {\n",
    "        \"nombre\": \"Batman\",\n",
    "        \"editorial\": \"DC Comics\",\n",
    "        \"alter_ego\": \"Bruce Wayne\",\n",
    "        \"primera_aparicion\": \"Detective Comics #27\"\n",
    "    },\n",
    "    {\n",
    "        \"nombre\": \"Superman\",\n",
    "        \"editorial\": \"DC Comics\",\n",
    "        \"alter_ego\": \"Kal-El\",\n",
    "        \"primera_aparicion\": \"Action Comics #1\"\n",
    "    },\n",
    "    {\n",
    "        \"nombre\": \"Spider Man\",\n",
    "        \"editorial\": \"Marvel Comics\",\n",
    "        \"alter_ego\": \"Peter Parker\",\n",
    "        \"primera_aparicion\": \"Amazing Fantasy #15\"\n",
    "    },\n",
    "    {\n",
    "        \"nombre\": \"Hulk\",\n",
    "        \"editorial\": \"Marvel Comics\",\n",
    "        \"alter_ego\": \"Bruce Banner\",\n",
    "        \"primera_aparicion\": \"The Incredible Hulk #1\"\n",
    "    }\n",
    "]"
   ]
  },
  {
   "cell_type": "code",
   "execution_count": null,
   "metadata": {},
   "outputs": [],
   "source": [
    "superheroesMC = filter(lambda x: x['editorial'] == \"DC Comics\", superheroes)\n",
    "print(tuple(superheroesMC))\n"
   ]
  },
  {
   "cell_type": "code",
   "execution_count": null,
   "metadata": {},
   "outputs": [],
   "source": [
    "def pares(n):\n",
    "    if n%2!=0:\n",
    "        return True\n",
    "\n",
    "\n",
    "lista = [1,2,3,4,5,6,7,8,9,10]\n",
    "listaPares = filter(pares,lista)\n",
    "print(list(listaPares))"
   ]
  },
  {
   "cell_type": "markdown",
   "metadata": {},
   "source": [
    "### Filtra por nombres que contengan \"MAN\""
   ]
  },
  {
   "cell_type": "code",
   "execution_count": null,
   "metadata": {},
   "outputs": [],
   "source": [
    "# lista = [a,b,c,d] a,b,c,d = culquier obje ( int,str,bool,list,tuple,dict)\n",
    "# lista[0] -> a\n",
    "# lista[1] -> b\n",
    "# rec = lista[0]\n",
    "# rec -> a\n",
    "# a -> {},[],(),\"\" si a[1,2,3,4,5] \n",
    "superheroes = [\n",
    "    {\n",
    "        \"nombre\": \"Batman\",\n",
    "        \"editorial\": \"DC Comics\",\n",
    "        \"alter_ego\": \"Bruce Wayne\",\n",
    "        \"primera_aparicion\": \"Detective Comics #27\"\n",
    "    },\n",
    "    {\n",
    "        \"nombre\": \"Superman\",\n",
    "        \"editorial\": \"DC Comics\",\n",
    "        \"alter_ego\": \"Kal-El\",\n",
    "        \"primera_aparicion\": \"Action Comics #1\"\n",
    "    },\n",
    "    {\n",
    "        \"nombre\": \"Spider Man\",\n",
    "        \"editorial\": \"Marvel Comics\",\n",
    "        \"alter_ego\": \"Peter Parker\",\n",
    "        \"primera_aparicion\": \"Amazing Fantasy #15\"\n",
    "    },\n",
    "    {\n",
    "        \"nombre\": \"Hulk\",\n",
    "        \"editorial\": \"Marvel Comics\",\n",
    "        \"alter_ego\": \"Bruce Banner\",\n",
    "        \"primera_aparicion\": \"The Incredible Hulk #1\"\n",
    "    }\n",
    "]"
   ]
  },
  {
   "cell_type": "code",
   "execution_count": null,
   "metadata": {},
   "outputs": [],
   "source": [
    "# lista de diccionarios \n",
    "superheroes\n",
    "a = superheroes[0]\n",
    "b = a['nombre']\n",
    "type(b)"
   ]
  },
  {
   "cell_type": "code",
   "execution_count": null,
   "metadata": {},
   "outputs": [],
   "source": [
    "# iterable es superheroes\n",
    "# pirmera posición y nombre\n",
    "# superheroes[0]['nombre']\n",
    "heroe = superheroes[1]\n",
    "heroe['nombre']"
   ]
  },
  {
   "cell_type": "code",
   "execution_count": null,
   "metadata": {},
   "outputs": [],
   "source": [
    "heroesMan = filter(lambda superheroe:\"r\" in superheroe['alter_ego'].lower(),superheroes)\n",
    "tuple(heroesMan)"
   ]
  },
  {
   "cell_type": "code",
   "execution_count": null,
   "metadata": {},
   "outputs": [],
   "source": [
    "lista = [i for i in range(100)]\n",
    "listaMultiplos_6 = filter(lambda x: x%12==0,lista)\n",
    "print(listaMultiplos_6)\n",
    "for m6 in listaMultiplos_6:\n",
    "    print(m6,end=\", \")\n"
   ]
  },
  {
   "cell_type": "code",
   "execution_count": null,
   "metadata": {},
   "outputs": [],
   "source": []
  }
 ],
 "metadata": {
  "interpreter": {
   "hash": "09a5361423988323be33916b79028fd207b3fc6201bd1305bb57c30a02c00c21"
  },
  "kernelspec": {
   "display_name": "Python 3.9.12 ('base')",
   "language": "python",
   "name": "python3"
  },
  "language_info": {
   "codemirror_mode": {
    "name": "ipython",
    "version": 3
   },
   "file_extension": ".py",
   "mimetype": "text/x-python",
   "name": "python",
   "nbconvert_exporter": "python",
   "pygments_lexer": "ipython3",
   "version": "3.9.12"
  },
  "orig_nbformat": 4
 },
 "nbformat": 4,
 "nbformat_minor": 2
}
