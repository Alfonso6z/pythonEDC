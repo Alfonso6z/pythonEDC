{
 "cells": [
  {
   "cell_type": "markdown",
   "metadata": {},
   "source": [
    "# Reduce"
   ]
  },
  {
   "cell_type": "code",
   "execution_count": null,
   "metadata": {},
   "outputs": [],
   "source": [
    "import functools as f\n",
    "def sumar(a,b):\n",
    "    return a + b\n",
    "\n",
    "print(f.reduce(sumar,[1,2,3,4,5,6,7,8,9,10]))"
   ]
  },
  {
   "cell_type": "code",
   "execution_count": null,
   "metadata": {},
   "outputs": [],
   "source": [
    "superheroes = [\n",
    "    {\n",
    "        \"nombre\": \"Batman\",\n",
    "        \"editorial\": \"DC Comics\",\n",
    "        \"alter_ego\": \"Bruce Wayne\",\n",
    "        \"primera_aparicion\": \"Detective Comics #27\"\n",
    "    },\n",
    "    {\n",
    "        \"nombre\": \"Superman\",\n",
    "        \"editorial\": \"DC Comics\",\n",
    "        \"alter_ego\": \"Kal-El\",\n",
    "        \"primera_aparicion\": \"Action Comics #1\"\n",
    "    },\n",
    "    {\n",
    "        \"nombre\": \"Spider Man\",\n",
    "        \"editorial\": \"Marvel Comics\",\n",
    "        \"alter_ego\": \"Peter Parker\",\n",
    "        \"primera_aparicion\": \"Amazing Fantasy #15\"\n",
    "    },\n",
    "    {\n",
    "        \"nombre\": \"Hulk\",\n",
    "        \"editorial\": \"Marvel Comics\",\n",
    "        \"alter_ego\": \"Bruce Banner\",\n",
    "        \"primera_aparicion\": \"The Incredible Hulk #1\"\n",
    "    }\n",
    "]"
   ]
  },
  {
   "cell_type": "code",
   "execution_count": null,
   "metadata": {},
   "outputs": [],
   "source": [
    "\n",
    "def contarMan(cont,superheroe):\n",
    "    if 'marvel comics' in superheroe['editorial'].lower():\n",
    "        return cont + 1\n",
    "    else:\n",
    "        return cont\n",
    "\n",
    "total = f.reduce(contarMan, superheroes, 0)\n",
    "\n",
    "print(total)"
   ]
  },
  {
   "cell_type": "code",
   "execution_count": null,
   "metadata": {},
   "outputs": [],
   "source": [
    "import functools as f\n",
    "import random\n",
    "def juegoM(aciertos,multiplicacion):\n",
    "    while True:\n",
    "        try:\n",
    "            res = int(input(f\"Cual es el resultado de: {multiplicacion[0]} * {multiplicacion[1]}\"))\n",
    "            if res == multiplicacion[0] * multiplicacion[1]:\n",
    "                return aciertos + 1\n",
    "            else:\n",
    "                print(f\" :( [X] La respuesta correctoa es {multiplicacion[0] * multiplicacion[1]}\")\n",
    "                return aciertos\n",
    "        except:\n",
    "            print(\"No no \")\n",
    "def genera_numeros():\n",
    "    x = random.randint(1,9)\n",
    "    y = random.randint(1,10)\n",
    "    return x,y\n",
    "lista = [genera_numeros() for i in range(10)]\n",
    "aciertos = f.reduce(juegoM,lista,0)\n",
    "print(f\"Los aciertos son: {aciertos}\")"
   ]
  },
  {
   "cell_type": "code",
   "execution_count": 2,
   "metadata": {},
   "outputs": [
    {
     "data": {
      "text/plain": [
       "48"
      ]
     },
     "execution_count": 2,
     "metadata": {},
     "output_type": "execute_result"
    }
   ],
   "source": [
    "import functools as f\n",
    "import random as r\n",
    "def cuantos_mayores_a_cinco(cont,numero):\n",
    "    if numero>5:\n",
    "        return cont + 1\n",
    "    else:\n",
    "        return cont\n",
    "lista = [r.randint(1,10) for i in range(100)]\n",
    "numerosM5 = f.reduce(cuantos_mayores_a_cinco,lista,0)\n",
    "numerosM5"
   ]
  },
  {
   "cell_type": "code",
   "execution_count": null,
   "metadata": {},
   "outputs": [],
   "source": []
  }
 ],
 "metadata": {
  "interpreter": {
   "hash": "09a5361423988323be33916b79028fd207b3fc6201bd1305bb57c30a02c00c21"
  },
  "kernelspec": {
   "display_name": "Python 3.9.12 ('base')",
   "language": "python",
   "name": "python3"
  },
  "language_info": {
   "codemirror_mode": {
    "name": "ipython",
    "version": 3
   },
   "file_extension": ".py",
   "mimetype": "text/x-python",
   "name": "python",
   "nbconvert_exporter": "python",
   "pygments_lexer": "ipython3",
   "version": "3.9.12"
  },
  "orig_nbformat": 4
 },
 "nbformat": 4,
 "nbformat_minor": 2
}
