{
 "cells": [
  {
   "cell_type": "markdown",
   "metadata": {},
   "source": [
    "# Reduce"
   ]
  },
  {
   "cell_type": "code",
   "execution_count": 2,
   "metadata": {},
   "outputs": [
    {
     "name": "stdout",
     "output_type": "stream",
     "text": [
      "55\n"
     ]
    }
   ],
   "source": [
    "import functools as f\n",
    "def sumar(a,b):\n",
    "    return a + b\n",
    "\n",
    "print(f.reduce(sumar,[1,2,3,4,5,6,7,8,9,10]))"
   ]
  },
  {
   "cell_type": "code",
   "execution_count": 3,
   "metadata": {},
   "outputs": [],
   "source": [
    "superheroes = [\n",
    "    {\n",
    "        \"nombre\": \"Batman\",\n",
    "        \"editorial\": \"DC Comics\",\n",
    "        \"alter_ego\": \"Bruce Wayne\",\n",
    "        \"primera_aparicion\": \"Detective Comics #27\"\n",
    "    },\n",
    "    {\n",
    "        \"nombre\": \"Superman\",\n",
    "        \"editorial\": \"DC Comics\",\n",
    "        \"alter_ego\": \"Kal-El\",\n",
    "        \"primera_aparicion\": \"Action Comics #1\"\n",
    "    },\n",
    "    {\n",
    "        \"nombre\": \"Spider Man\",\n",
    "        \"editorial\": \"Marvel Comics\",\n",
    "        \"alter_ego\": \"Peter Parker\",\n",
    "        \"primera_aparicion\": \"Amazing Fantasy #15\"\n",
    "    },\n",
    "    {\n",
    "        \"nombre\": \"Hulk\",\n",
    "        \"editorial\": \"Marvel Comics\",\n",
    "        \"alter_ego\": \"Bruce Banner\",\n",
    "        \"primera_aparicion\": \"The Incredible Hulk #1\"\n",
    "    }\n",
    "]"
   ]
  },
  {
   "cell_type": "code",
   "execution_count": 7,
   "metadata": {},
   "outputs": [
    {
     "name": "stdout",
     "output_type": "stream",
     "text": [
      "3\n"
     ]
    }
   ],
   "source": [
    "\n",
    "def contarMan(resultado,superheroe):\n",
    "    if 'man' in superheroe['nombre'].lower():\n",
    "        return resultado + 1\n",
    "    else:\n",
    "        return resultado\n",
    "\n",
    "total = f.reduce(contarMan, superheroes, 0)\n",
    "\n",
    "print(total)"
   ]
  }
 ],
 "metadata": {
  "interpreter": {
   "hash": "09a5361423988323be33916b79028fd207b3fc6201bd1305bb57c30a02c00c21"
  },
  "kernelspec": {
   "display_name": "Python 3.9.12 ('base')",
   "language": "python",
   "name": "python3"
  },
  "language_info": {
   "codemirror_mode": {
    "name": "ipython",
    "version": 3
   },
   "file_extension": ".py",
   "mimetype": "text/x-python",
   "name": "python",
   "nbconvert_exporter": "python",
   "pygments_lexer": "ipython3",
   "version": "3.9.12"
  },
  "orig_nbformat": 4
 },
 "nbformat": 4,
 "nbformat_minor": 2
}
