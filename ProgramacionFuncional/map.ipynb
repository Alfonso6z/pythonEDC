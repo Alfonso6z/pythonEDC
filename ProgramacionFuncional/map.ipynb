{
 "cells": [
  {
   "cell_type": "markdown",
   "metadata": {},
   "source": [
    "# Map"
   ]
  },
  {
   "cell_type": "code",
   "execution_count": 1,
   "metadata": {},
   "outputs": [],
   "source": [
    "superheroes = [\n",
    "    {\n",
    "        \"nombre\": \"Batman\",\n",
    "        \"editorial\": \"DC Comics\",\n",
    "        \"alter_ego\": \"Bruce Wayne\",\n",
    "        \"primera_aparicion\": \"Detective Comics #27\"\n",
    "    },\n",
    "    {\n",
    "        \"nombre\": \"Superman\",\n",
    "        \"editorial\": \"DC Comics\",\n",
    "        \"alter_ego\": \"Kal-El\",\n",
    "        \"primera_aparicion\": \"Action Comics #1\"\n",
    "    },\n",
    "    {\n",
    "        \"nombre\": \"Spider Man\",\n",
    "        \"editorial\": \"Marvel Comics\",\n",
    "        \"alter_ego\": \"Peter Parker\",\n",
    "        \"primera_aparicion\": \"Amazing Fantasy #15\"\n",
    "    },\n",
    "    {\n",
    "        \"nombre\": \"Hulk\",\n",
    "        \"editorial\": \"Marvel Comics\",\n",
    "        \"alter_ego\": \"Bruce Banner\",\n",
    "        \"primera_aparicion\": \"The Incredible Hulk #1\"\n",
    "    }\n",
    "]"
   ]
  },
  {
   "cell_type": "code",
   "execution_count": 4,
   "metadata": {},
   "outputs": [
    {
     "name": "stdout",
     "output_type": "stream",
     "text": [
      "[{'nombre': 'Batman', 'editorial': 'DC Comics', 'alter_ego': 'Bruce Wayne', 'primera_aparicion': 'Detective Comics #27', 'poder': 80}, {'nombre': 'Superman', 'editorial': 'DC Comics', 'alter_ego': 'Kal-El', 'primera_aparicion': 'Action Comics #1', 'poder': 58}, {'nombre': 'Spider Man', 'editorial': 'Marvel Comics', 'alter_ego': 'Peter Parker', 'primera_aparicion': 'Amazing Fantasy #15', 'poder': 34}, {'nombre': 'Hulk', 'editorial': 'Marvel Comics', 'alter_ego': 'Bruce Banner', 'primera_aparicion': 'The Incredible Hulk #1', 'poder': 78}]\n"
     ]
    }
   ],
   "source": [
    "import random as r\n",
    "def anyadirPoder(superHeroe):\n",
    "    superHeroe[\"poder\"] = r.randint(0,100)\n",
    "    return superHeroe\n",
    "\n",
    "superHeroesPoderes = map(anyadirPoder,superheroes)\n",
    "print(list(superHeroesPoderes))"
   ]
  },
  {
   "cell_type": "code",
   "execution_count": null,
   "metadata": {},
   "outputs": [],
   "source": []
  }
 ],
 "metadata": {
  "interpreter": {
   "hash": "09a5361423988323be33916b79028fd207b3fc6201bd1305bb57c30a02c00c21"
  },
  "kernelspec": {
   "display_name": "Python 3.9.12 ('base')",
   "language": "python",
   "name": "python3"
  },
  "language_info": {
   "codemirror_mode": {
    "name": "ipython",
    "version": 3
   },
   "file_extension": ".py",
   "mimetype": "text/x-python",
   "name": "python",
   "nbconvert_exporter": "python",
   "pygments_lexer": "ipython3",
   "version": "3.9.12"
  },
  "orig_nbformat": 4
 },
 "nbformat": 4,
 "nbformat_minor": 2
}
