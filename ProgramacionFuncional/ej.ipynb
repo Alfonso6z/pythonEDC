{
 "cells": [
  {
   "cell_type": "code",
   "execution_count": 8,
   "metadata": {},
   "outputs": [
    {
     "name": "stdout",
     "output_type": "stream",
     "text": [
      "\tError, La respuesta correcta es: 28\n",
      "\tError, La respuesta correcta es: 21\n",
      "\tError, La respuesta correcta es: 5\n",
      "\tError, La respuesta correcta es: 12\n",
      "\tError, La respuesta correcta es: 27\n",
      "\tError, La respuesta correcta es: 21\n",
      "\tError, La respuesta correcta es: 49\n",
      "\tError, La respuesta correcta es: 7\n",
      "\tError, La respuesta correcta es: 6\n",
      "El número de aciertos es = 1\n"
     ]
    }
   ],
   "source": [
    "import random\n",
    "\n",
    "def genera_numeros():\n",
    "    x = random.randint(1,9)\n",
    "    y = random.randint(1,10)\n",
    "    return x,y\n",
    "def juego_multiplica():\n",
    "    aciertos = 0\n",
    "    cont = 0\n",
    "    lista = [genera_numeros() for i in range(10)]\n",
    "    lista_respuesta = list(map(lambda tupla:tupla[0]*tupla[1],lista))\n",
    "    res = lambda respuesta,resultado: respuesta == resultado\n",
    "    while(cont<10):\n",
    "        # print(f\"{cont + 1}.- Cual es el resultado de: {lista[cont][0]} * {lista[cont][1]}\")\n",
    "        try: \n",
    "            respuesta = int(input(f\"{cont + 1}.- Cual es el resultado de: {lista[cont][0]} * {lista[cont][1]}\"))\n",
    "            if res(respuesta,lista_respuesta[cont]):\n",
    "                aciertos +=1\n",
    "            else:\n",
    "                print(f\"\\tError, La respuesta correcta es: {lista_respuesta[cont]}\")\n",
    "            cont+=1\n",
    "        except:\n",
    "            print(\"No es un número\")\n",
    "    return aciertos\n",
    "\n",
    "juego = juego_multiplica()\n",
    "print(f\"El número de aciertos es = {juego}\")"
   ]
  },
  {
   "cell_type": "code",
   "execution_count": null,
   "metadata": {},
   "outputs": [],
   "source": []
  }
 ],
 "metadata": {
  "interpreter": {
   "hash": "9524c4952dd211fec7df7c73b3afac2dbc89a267f70352ce6257a0999e7cce99"
  },
  "kernelspec": {
   "display_name": "Python 3.10.4 64-bit",
   "language": "python",
   "name": "python3"
  },
  "language_info": {
   "codemirror_mode": {
    "name": "ipython",
    "version": 3
   },
   "file_extension": ".py",
   "mimetype": "text/x-python",
   "name": "python",
   "nbconvert_exporter": "python",
   "pygments_lexer": "ipython3",
   "version": "3.10.4"
  },
  "orig_nbformat": 4
 },
 "nbformat": 4,
 "nbformat_minor": 2
}
