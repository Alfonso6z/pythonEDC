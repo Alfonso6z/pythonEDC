{
 "cells": [
  {
   "cell_type": "code",
   "execution_count": 2,
   "metadata": {},
   "outputs": [
    {
     "name": "stdout",
     "output_type": "stream",
     "text": [
      "1.- Cual es el resultado de: 4 * 10\n",
      "\tError, La respuesta correcta es: 40\n",
      "2.- Cual es el resultado de: 1 * 3\n",
      "No es un número\n",
      "2.- Cual es el resultado de: 4 * 8\n",
      "No es un número\n",
      "2.- Cual es el resultado de: 5 * 4\n",
      "No es un número\n",
      "2.- Cual es el resultado de: 6 * 9\n",
      "No es un número\n",
      "2.- Cual es el resultado de: 1 * 6\n",
      "No es un número\n",
      "2.- Cual es el resultado de: 6 * 9\n",
      "No es un número\n",
      "2.- Cual es el resultado de: 9 * 4\n",
      "No es un número\n",
      "2.- Cual es el resultado de: 7 * 1\n",
      "No es un número\n",
      "2.- Cual es el resultado de: 8 * 3\n",
      "No es un número\n",
      "2.- Cual es el resultado de: 8 * 10\n",
      "No es un número\n",
      "2.- Cual es el resultado de: 2 * 1\n"
     ]
    }
   ],
   "source": [
    "import random\n",
    "aciertos = 0\n",
    "cont = 0\n",
    "while(cont<10):\n",
    "    x = random.randint(1,9)\n",
    "    y = random.randint(1,10)\n",
    "    mutlplicacion = x * y\n",
    "    print(f\"{cont + 1}.- Cual es el resultado de: {x} * {y}\")\n",
    "    try: \n",
    "        respuesta = int(input())\n",
    "        if respuesta == mutlplicacion:\n",
    "            aciertos +=1\n",
    "        else:\n",
    "            print(f\"\\tError, La respuesta correcta es: {mutlplicacion}\")\n",
    "        cont+=1\n",
    "    except:\n",
    "        print(\"No es un número\")\n",
    "print(f\"El número de aciertos son: {aciertos}\")"
   ]
  },
  {
   "cell_type": "code",
   "execution_count": null,
   "metadata": {},
   "outputs": [],
   "source": []
  }
 ],
 "metadata": {
  "interpreter": {
   "hash": "9524c4952dd211fec7df7c73b3afac2dbc89a267f70352ce6257a0999e7cce99"
  },
  "kernelspec": {
   "display_name": "Python 3.10.4 64-bit",
   "language": "python",
   "name": "python3"
  },
  "language_info": {
   "codemirror_mode": {
    "name": "ipython",
    "version": 3
   },
   "file_extension": ".py",
   "mimetype": "text/x-python",
   "name": "python",
   "nbconvert_exporter": "python",
   "pygments_lexer": "ipython3",
   "version": "3.10.4"
  },
  "orig_nbformat": 4
 },
 "nbformat": 4,
 "nbformat_minor": 2
}
