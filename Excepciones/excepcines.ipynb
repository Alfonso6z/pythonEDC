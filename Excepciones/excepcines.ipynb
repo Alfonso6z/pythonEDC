{
 "cells": [
  {
   "cell_type": "markdown",
   "metadata": {},
   "source": [
    "# Exepticiones\n",
    "Durante la ejecución de un programa, si dentro de una función surge una excepción y la función no la maneja, la excepción se propaga hacia la función que la invocó, si esta otra tampoco la maneja, la excepción continúa propagándose hasta llegar a la función inicial del programa y si esta tampoco la maneja se interrumpe la ejecución del programa.  \n",
    "Para el manejo de excepciones los lenguajes proveen ciertas palabras reservadas, que nos permiten manejar las excepciones que puedan surgir y tomar acciones de recuperación para evitar la interrupción del programa o, al menos, para realizar algunas acciones adicionales antes de interrumpir el programa.\n",
    "En el caso de Python, el manejo de excepciones se hace mediante los bloques que utilizan las sentencias.\n",
    "\n",
    "```py\n",
    "                        try:\n",
    "                            #instrucción\n",
    "                        except:\n",
    "                            # Manejo del error\n",
    "                        finally:\n",
    "                            # Acciones de limpieza\n",
    "```\n",
    "[Documentación Python - ES](https://tutorial.python.org.ar/en/latest/errors.html)  \n",
    "[Documentación Python](https://docs.python.org/3/library/exceptions.html)"
   ]
  },
  {
   "cell_type": "code",
   "execution_count": 29,
   "metadata": {},
   "outputs": [
    {
     "name": "stdout",
     "output_type": "stream",
     "text": [
      "Conectando a la base de datos\n",
      "2.5\n",
      "Cerrando la conexion\n"
     ]
    }
   ],
   "source": [
    "import sys\n",
    "while True:\n",
    "    try:\n",
    "        print(\"Conectando a la base de datos\")\n",
    "        n1 = int(input(\"Ingresa un número n1\"))\n",
    "        n2 = int(input(\"Ingresa un número n2\"))\n",
    "        print(n1/n2)\n",
    "        break\n",
    "    except:\n",
    "        print(\"Error al dividir\")\n",
    "    finally:\n",
    "        print(\"Cerrando la conexion\")"
   ]
  },
  {
   "cell_type": "markdown",
   "metadata": {},
   "source": []
  }
 ],
 "metadata": {
  "interpreter": {
   "hash": "09a5361423988323be33916b79028fd207b3fc6201bd1305bb57c30a02c00c21"
  },
  "kernelspec": {
   "display_name": "Python 3.9.12 ('base')",
   "language": "python",
   "name": "python3"
  },
  "language_info": {
   "codemirror_mode": {
    "name": "ipython",
    "version": 3
   },
   "file_extension": ".py",
   "mimetype": "text/x-python",
   "name": "python",
   "nbconvert_exporter": "python",
   "pygments_lexer": "ipython3",
   "version": "3.9.12"
  },
  "orig_nbformat": 4
 },
 "nbformat": 4,
 "nbformat_minor": 2
}
