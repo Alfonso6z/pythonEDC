{
 "cells": [
  {
   "cell_type": "markdown",
   "metadata": {},
   "source": [
    "# Diccionarios"
   ]
  },
  {
   "cell_type": "markdown",
   "metadata": {},
   "source": [
    "### Crear"
   ]
  },
  {
   "cell_type": "code",
   "execution_count": 1,
   "metadata": {},
   "outputs": [
    {
     "name": "stdout",
     "output_type": "stream",
     "text": [
      "<class 'dict'>\n"
     ]
    }
   ],
   "source": [
    "d = {}\n",
    "print(type(d))"
   ]
  },
  {
   "cell_type": "code",
   "execution_count": 2,
   "metadata": {},
   "outputs": [
    {
     "name": "stdout",
     "output_type": "stream",
     "text": [
      "<class 'dict'>\n"
     ]
    }
   ],
   "source": [
    "d = dict()\n",
    "print(type(d))"
   ]
  },
  {
   "cell_type": "code",
   "execution_count": 4,
   "metadata": {},
   "outputs": [
    {
     "name": "stdout",
     "output_type": "stream",
     "text": [
      "{1: 'Uno', 2: 'Dos', 3: 'Tres'}\n"
     ]
    }
   ],
   "source": [
    "d = {1:\"Uno\",2:\"Dos\",3:\"Tres\"}\n",
    "print(d)"
   ]
  },
  {
   "cell_type": "code",
   "execution_count": 7,
   "metadata": {},
   "outputs": [
    {
     "name": "stdout",
     "output_type": "stream",
     "text": [
      "{1: 'Uno', 2: 'Dos'}\n"
     ]
    }
   ],
   "source": [
    "d = dict([(1,\"Uno\"),(2,\"Dos\")])\n",
    "print(d)"
   ]
  },
  {
   "cell_type": "markdown",
   "metadata": {},
   "source": [
    "### Agregar elementos"
   ]
  },
  {
   "cell_type": "code",
   "execution_count": 18,
   "metadata": {},
   "outputs": [
    {
     "name": "stdout",
     "output_type": "stream",
     "text": [
      "{1: 'Uno', 2: 'Dos', 3: 'Tres'}\n",
      "{1: 'Uno', 2: 'Dos', 3: 'Tres', 4: 'Cuatro'}\n",
      "{1: 'Uno', 2: 'Dos', 3: 'Tres', 4: 'Four'}\n",
      "{1: 'Uno', 2: 'Dos', 3: 'Tres', 4: '4'}\n",
      "{1: 'Uno', 2: 'Dos', 3: 'Tres', 4: '4', 'Cinco': 5}\n",
      "{1: 'Uno', 2: 'Dos', 3: 'Tres', 4: '4', 'Cinco': 5, 'Seis': 6}\n",
      "{1: 'Uno', 2: 'Dos', 3: 'Tres', 4: '4', 'Cinco': 5, 'Seis': 6}\n"
     ]
    }
   ],
   "source": [
    "d = {1:\"Uno\",2:\"Dos\",3:\"Tres\"}\n",
    "print(d)\n",
    "d[4] = \"Cuatro\"  \n",
    "print(d)\n",
    "d[4] = \"Four\"  \n",
    "print(d)\n",
    "d[4] = \"4\"\n",
    "print(d)\n",
    "d[\"Cinco\"] = 5\n",
    "print(d)\n",
    "d.setdefault(\"Seis\",6) # agrega no reemplaza\n",
    "print(d)\n",
    "d.setdefault(\"Seis\",66) # agrega no reemplaza\n",
    "print(d)"
   ]
  },
  {
   "cell_type": "markdown",
   "metadata": {},
   "source": [
    "## consultar llave"
   ]
  },
  {
   "cell_type": "code",
   "execution_count": 27,
   "metadata": {},
   "outputs": [
    {
     "name": "stdout",
     "output_type": "stream",
     "text": [
      "----- con [] -----\n",
      "Uno\n",
      "Dos\n",
      "Tres\n",
      "----- con get -----\n",
      "Uno\n",
      "Dos\n",
      "Tres\n",
      "None\n",
      "No existe esa llave\n",
      "Uno\n"
     ]
    }
   ],
   "source": [
    "d = {1:\"Uno\",2:\"Dos\",3:\"Tres\"}\n",
    "# con [] tendremos que asegurarnos que exista la llave\n",
    "print(\"----- con [] -----\")\n",
    "print(d[1])\n",
    "print(d[2])\n",
    "print(d[3])\n",
    "# print(d[4])\n",
    "print(\"----- con get -----\")\n",
    "# con metodo get\n",
    "print(d.get(1))\n",
    "print(d.get(2))\n",
    "print(d.get(3))\n",
    "print(d.get(4))\n",
    "print(d.get(5,\"No existe esa llave\")) # si existe regresa el valor, de lo contrario el segundo arg\n",
    "print(d.get(1,\"No existe esa llave\"))"
   ]
  },
  {
   "cell_type": "markdown",
   "metadata": {},
   "source": [
    "## Eliminar un k,v"
   ]
  },
  {
   "cell_type": "code",
   "execution_count": 33,
   "metadata": {},
   "outputs": [
    {
     "name": "stdout",
     "output_type": "stream",
     "text": [
      "{1: 'Uno', 2: 'Dos', 3: 'Tres'}\n",
      "{1: 'Uno', 3: 'Tres'}\n"
     ]
    }
   ],
   "source": [
    "d = {1:\"Uno\",2:\"Dos\",3:\"Tres\"}\n",
    "print(d)\n",
    "d.pop(2)\n",
    "print(d)"
   ]
  },
  {
   "cell_type": "code",
   "execution_count": 35,
   "metadata": {},
   "outputs": [
    {
     "name": "stdout",
     "output_type": "stream",
     "text": [
      "{1: 'Uno', 2: 'Dos', 3: 'Tres', 4: '4', 'Cinco': 5, 'Seis': 6}\n",
      "{1: 'Uno', 2: 'Dos', 3: 'Tres', 4: '4', 'Cinco': 5}\n",
      "{1: 'Uno', 2: 'Dos', 3: 'Tres', 4: '4'}\n",
      "{1: 'Uno', 2: 'Dos', 3: 'Tres'}\n",
      "{1: 'Uno', 2: 'Dos'}\n",
      "{1: 'Uno'}\n",
      "{}\n"
     ]
    }
   ],
   "source": [
    "d = {1: 'Uno', 2: 'Dos', 3: 'Tres', 4: '4', 'Cinco': 5, 'Seis': 6}\n",
    "print(d)\n",
    "d.popitem()\n",
    "print(d)\n",
    "d.popitem()\n",
    "print(d)\n",
    "d.popitem()\n",
    "print(d)\n",
    "d.popitem()\n",
    "print(d)\n",
    "d.popitem()\n",
    "print(d)\n",
    "d.popitem()\n",
    "print(d)"
   ]
  },
  {
   "cell_type": "markdown",
   "metadata": {},
   "source": [
    "### Contar elementos"
   ]
  },
  {
   "cell_type": "code",
   "execution_count": 42,
   "metadata": {},
   "outputs": [
    {
     "name": "stdout",
     "output_type": "stream",
     "text": [
      "6\n",
      "1 - Uno\n",
      "2 - Dos\n",
      "3 - Tres\n",
      "4 - 4\n",
      "Cinco - 5\n",
      "Seis - 6\n"
     ]
    }
   ],
   "source": [
    "d = {1: 'Uno', 2: 'Dos', 3: 'Tres', 4: '4', 'Cinco': 5, 'Seis': 6}\n",
    "print(len(d))\n",
    "for k,v in d.items():\n",
    "    print(f\"{k} - {v}\")"
   ]
  },
  {
   "cell_type": "code",
   "execution_count": 50,
   "metadata": {},
   "outputs": [
    {
     "name": "stdout",
     "output_type": "stream",
     "text": [
      "1\n",
      "6\n",
      "(4, '4')\n"
     ]
    }
   ],
   "source": [
    "d = {1: 'Uno', 2: 'Dos', 3: 'Tres', 4: '4', 'Cinco': 5, 'Seis': 6}\n",
    "llaves = list(d.keys())\n",
    "valores = list(d.values())\n",
    "items = list(d.items())\n",
    "keys = d.keys()\n",
    "print(llaves[0])\n",
    "print(valores[5])\n",
    "print(items[3])\n",
    "# print(keys[0])"
   ]
  },
  {
   "cell_type": "code",
   "execution_count": null,
   "metadata": {},
   "outputs": [],
   "source": []
  }
 ],
 "metadata": {
  "kernelspec": {
   "display_name": "Python 3.10.4 64-bit",
   "language": "python",
   "name": "python3"
  },
  "language_info": {
   "codemirror_mode": {
    "name": "ipython",
    "version": 3
   },
   "file_extension": ".py",
   "mimetype": "text/x-python",
   "name": "python",
   "nbconvert_exporter": "python",
   "pygments_lexer": "ipython3",
   "version": "3.10.4"
  },
  "orig_nbformat": 4,
  "vscode": {
   "interpreter": {
    "hash": "9524c4952dd211fec7df7c73b3afac2dbc89a267f70352ce6257a0999e7cce99"
   }
  }
 },
 "nbformat": 4,
 "nbformat_minor": 2
}
