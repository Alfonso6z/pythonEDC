{
 "cells": [
  {
   "cell_type": "markdown",
   "metadata": {},
   "source": [
    "# Listas"
   ]
  },
  {
   "cell_type": "markdown",
   "metadata": {},
   "source": [
    "### Crear una lista"
   ]
  },
  {
   "cell_type": "code",
   "execution_count": 11,
   "metadata": {},
   "outputs": [
    {
     "name": "stdout",
     "output_type": "stream",
     "text": [
      "<class 'list'>\n",
      "[]\n",
      "[1, 2, 3, 4]\n",
      "[1, 'hola mundo', True, [5, 6], False]\n",
      "[1, 2, 3, 4, 5, 6, 7, 8, 9, 10]\n"
     ]
    }
   ],
   "source": [
    "# Lista vacia\n",
    "lista = []\n",
    "print(type(lista))\n",
    "# lista con elementos\n",
    "lista_e = [1,2,3,4]\n",
    "print(lista)\n",
    "print(lista_e)\n",
    "# lista con diferentes tipos\n",
    "lista_h = [1,\"hola mundo\",3>2,[5,6],2>5 and not 1>2]\n",
    "print(lista_h)\n",
    "\n",
    "# crear lista con generadores\n",
    "lista_g = [i for i in range(1,10+1)]\n",
    "print(lista_g)\n"
   ]
  },
  {
   "cell_type": "markdown",
   "metadata": {},
   "source": [
    "### Las listas son mutables\n"
   ]
  },
  {
   "cell_type": "code",
   "execution_count": 12,
   "metadata": {},
   "outputs": [
    {
     "data": {
      "text/plain": [
       "1628476920512"
      ]
     },
     "execution_count": 12,
     "metadata": {},
     "output_type": "execute_result"
    }
   ],
   "source": [
    "lista_n = [1,2,3,4,5,6]\n",
    "id(lista_n)"
   ]
  },
  {
   "cell_type": "code",
   "execution_count": 13,
   "metadata": {},
   "outputs": [
    {
     "name": "stdout",
     "output_type": "stream",
     "text": [
      "[1, 2, 3, 4, 5, 6, 7]\n",
      "1628476920512\n"
     ]
    }
   ],
   "source": [
    "lista_n.append(7)\n",
    "print(lista_n)\n",
    "print(id(lista_n))"
   ]
  },
  {
   "cell_type": "code",
   "execution_count": 20,
   "metadata": {},
   "outputs": [
    {
     "name": "stdout",
     "output_type": "stream",
     "text": [
      "[1, 2, 3, 4, 5, 6, 7, 8, 8, 8]\n",
      "[1, 2, 3, 4, 5, 6, 7, 8, 8, 8, 8]\n",
      "True\n"
     ]
    }
   ],
   "source": [
    "# igualamos listas\n",
    "lista2 = lista_n\n",
    "print(lista2)\n",
    "lista_n.append(8)\n",
    "print(lista2)\n",
    "# demostramos que son el mismo objeto\n",
    "print(id(lista_n) == id(lista2))"
   ]
  },
  {
   "cell_type": "markdown",
   "metadata": {},
   "source": [
    "### Agregar elementos"
   ]
  },
  {
   "cell_type": "code",
   "execution_count": 22,
   "metadata": {},
   "outputs": [
    {
     "name": "stdout",
     "output_type": "stream",
     "text": [
      "[1, 2, 3, 4, 4, 4, 0]\n"
     ]
    }
   ],
   "source": [
    "lista = []\n",
    "# metodo append\n",
    "lista.append(1)\n",
    "lista.append(2)\n",
    "lista.append(3)\n",
    "lista.append(4)\n",
    "lista.append(4)\n",
    "lista.append(4)\n",
    "lista.append(0)\n",
    "# [1,2,3,4,4,4,0]\n",
    "print(lista)"
   ]
  },
  {
   "cell_type": "code",
   "execution_count": 27,
   "metadata": {},
   "outputs": [
    {
     "name": "stdout",
     "output_type": "stream",
     "text": [
      "Ho\n",
      "Hola\n",
      "[0, 1, 2, 3]\n",
      "[0, 1, 2, 3, 4, 5, 6]\n"
     ]
    }
   ],
   "source": [
    "# concatenando listas\n",
    "st = \"H\"\n",
    "st+=\"o\"\n",
    "print(st)\n",
    "st+=\"l\"\n",
    "st+=\"a\"\n",
    "print(st)\n",
    "\n",
    "lista = [0]\n",
    "lista+=[1,2,3]\n",
    "print(lista)\n",
    "lista+=[4,5,6]\n",
    "print(lista)"
   ]
  },
  {
   "cell_type": "code",
   "execution_count": 28,
   "metadata": {},
   "outputs": [
    {
     "name": "stdout",
     "output_type": "stream",
     "text": [
      "[1, 2, 3, 4, 5, 6]\n"
     ]
    }
   ],
   "source": [
    "# con el metodo extend\n",
    "lista = [1,2,3]\n",
    "lista.extend([4,5,6])\n",
    "print(lista)"
   ]
  },
  {
   "cell_type": "code",
   "execution_count": 38,
   "metadata": {},
   "outputs": [
    {
     "name": "stdout",
     "output_type": "stream",
     "text": [
      "[1, 2, 0, 3]\n",
      "[1, 2, 0, 3, 10]\n",
      "[-1, 1, 2, 0, 3, 10]\n"
     ]
    }
   ],
   "source": [
    "# metodo insert\n",
    "lista = [1,2,3]\n",
    "# lista.insert(indice,valor)\n",
    "lista.insert(2,0)\n",
    "print(lista)\n",
    "lista.insert(45,10)\n",
    "print(lista)\n",
    "lista.insert(-45,-1)\n",
    "print(lista)"
   ]
  },
  {
   "cell_type": "markdown",
   "metadata": {},
   "source": [
    "### Consultar una posición"
   ]
  },
  {
   "cell_type": "code",
   "execution_count": 47,
   "metadata": {},
   "outputs": [
    {
     "name": "stdout",
     "output_type": "stream",
     "text": [
      "5\n",
      "0\n",
      "2\n",
      "9\n",
      "5\n"
     ]
    }
   ],
   "source": [
    "lista = [5,1,5,8,7,9,8,3,2,0]\n",
    "''' con indice \n",
    "    se tiene que respetar el rango de la lista\n",
    "'''\n",
    "print(lista[0])\n",
    "# fuera de rango\n",
    "### print(lista[10])\n",
    "print(lista[-1])\n",
    "print(lista[-2])\n",
    "print(lista[-5])\n",
    "print(lista[-10])\n",
    "# fuera de rango\n",
    "###print(lista[-11])\n"
   ]
  },
  {
   "cell_type": "code",
   "execution_count": 55,
   "metadata": {},
   "outputs": [
    {
     "name": "stdout",
     "output_type": "stream",
     "text": [
      "tamaño 10\n",
      "5^2 = 25\n",
      "1^2 = 1\n",
      "5^2 = 25\n",
      "8^2 = 64\n",
      "7^2 = 49\n",
      "9^2 = 81\n",
      "8^2 = 64\n",
      "3^2 = 9\n",
      "2^2 = 4\n",
      "0^2 = 0\n"
     ]
    }
   ],
   "source": [
    "# consultar todos los valores\n",
    "lista = [5,1,5,8,7,9,8,3,2,0]\n",
    "print(\"tamaño\",len(lista))\n",
    "# for\n",
    "for i in range(len(lista)):\n",
    "    print(f\"{lista[i]}^2 = {lista[i]**2}\")\n",
    "    "
   ]
  },
  {
   "cell_type": "code",
   "execution_count": 57,
   "metadata": {},
   "outputs": [
    {
     "name": "stdout",
     "output_type": "stream",
     "text": [
      "tamaño 10\n",
      "5^2 = 25\n",
      "1^2 = 1\n",
      "5^2 = 25\n",
      "8^2 = 64\n",
      "7^2 = 49\n",
      "9^2 = 81\n",
      "8^2 = 64\n",
      "3^2 = 9\n",
      "2^2 = 4\n",
      "0^2 = 0\n"
     ]
    }
   ],
   "source": [
    "# consultar todos los valores\n",
    "lista = [5,1,5,8,7,9,8,3,2,0]\n",
    "print(\"tamaño\",len(lista))\n",
    "# while\n",
    "i = 0\n",
    "while i<len(lista):\n",
    "    print(f\"{lista[i]}^2 = {lista[i]**2}\")\n",
    "    i+=1"
   ]
  },
  {
   "cell_type": "code",
   "execution_count": 69,
   "metadata": {},
   "outputs": [
    {
     "name": "stdout",
     "output_type": "stream",
     "text": [
      "tamaño 10\n",
      "[25]\n",
      "[25, 1]\n",
      "[25, 1, 25]\n",
      "[25, 1, 25, 64]\n",
      "[25, 1, 25, 64, 49]\n",
      "[25, 1, 25, 64, 49, 81]\n",
      "[25, 1, 25, 64, 49, 81, 64]\n",
      "[25, 1, 25, 64, 49, 81, 64, 9]\n",
      "[25, 1, 25, 64, 49, 81, 64, 9, 4]\n",
      "[25, 1, 25, 64, 49, 81, 64, 9, 4, 0]\n"
     ]
    }
   ],
   "source": [
    "# consultar todos los valores\n",
    "lista = [5,1,5,8,7,9,8,3,2,0]\n",
    "lista_cuadrados = []\n",
    "print(\"tamaño\",len(lista))\n",
    "# do while\n",
    "i = 0\n",
    "while True:\n",
    "    # print(f\"{lista[i]}^2 = {lista[i]**2}\")\n",
    "    lista_cuadrados.append(lista[i]**2)\n",
    "    i+=1\n",
    "    if i>=len(lista):\n",
    "        break\n",
    "print(lista_cuadrados)"
   ]
  },
  {
   "cell_type": "markdown",
   "metadata": {},
   "source": [
    "### Eliminar elementos  \n",
    "Cola - [1,2,3,4,5,6,7]\n",
    "\" el primero llega, es el primero que sale \"\n",
    "[1]\n",
    "[2]\n",
    "[3]\n",
    "...\n",
    "[7]\n",
    "Pila - [1,2,3,4,5,6,7]\n",
    "\" el ultimo que llega es el primero que sale \"\n",
    "[7]\n",
    "[6]\n",
    "[5]\n",
    "...\n",
    "[1]"
   ]
  },
  {
   "cell_type": "code",
   "execution_count": 91,
   "metadata": {},
   "outputs": [
    {
     "name": "stdout",
     "output_type": "stream",
     "text": [
      "4\n",
      "3\n",
      "2\n"
     ]
    }
   ],
   "source": [
    "# metodo pop()\n",
    "lista = []\n",
    "lista.append(1)\n",
    "lista.append(2)\n",
    "lista.append(3)\n",
    "lista.append(4)\n",
    "\n",
    "print(lista.pop()) # 4\n",
    "print(lista.pop()) # 3\n",
    "print(lista.pop()) # 2\n"
   ]
  },
  {
   "cell_type": "code",
   "execution_count": 98,
   "metadata": {},
   "outputs": [
    {
     "name": "stdout",
     "output_type": "stream",
     "text": [
      "5\n",
      "[1, 2, 3, 4]\n",
      "3\n",
      "[1, 2, 4]\n"
     ]
    }
   ],
   "source": [
    "lista = [1,2,3,4,5]\n",
    "print(lista.pop(-1))\n",
    "print(lista)\n",
    "print(lista.pop(2))\n",
    "print(lista)"
   ]
  },
  {
   "cell_type": "code",
   "execution_count": 102,
   "metadata": {},
   "outputs": [
    {
     "name": "stdout",
     "output_type": "stream",
     "text": [
      "[1, 2, 3, 4, 5, 6, 7, 8, 9, 10]\n"
     ]
    }
   ],
   "source": [
    "# metodo remove\n",
    "lista = [1,2,66,3,4,5,6,7,8,9,10]\n",
    "# romeve(valor en la lista) si no existe marcara un error\n",
    "lista.remove(66)\n",
    "print(lista)"
   ]
  },
  {
   "cell_type": "markdown",
   "metadata": {},
   "source": [
    "### Un elemento esta en la lista"
   ]
  },
  {
   "cell_type": "code",
   "execution_count": 105,
   "metadata": {},
   "outputs": [
    {
     "name": "stdout",
     "output_type": "stream",
     "text": [
      "True\n",
      "False\n"
     ]
    }
   ],
   "source": [
    "lista = [1,5,7,8,9,10,33,5,7,897,2,8]\n",
    "print(33 in lista)\n",
    "print(34 in lista)"
   ]
  },
  {
   "cell_type": "code",
   "execution_count": 107,
   "metadata": {},
   "outputs": [
    {
     "name": "stdout",
     "output_type": "stream",
     "text": [
      "True\n",
      "False\n"
     ]
    }
   ],
   "source": [
    "colores = [\"rojo\",\"azul\",\"amarillo\"]\n",
    "print(\"rojo\" in colores)\n",
    "print(\"negro\" in colores)"
   ]
  },
  {
   "cell_type": "code",
   "execution_count": 118,
   "metadata": {},
   "outputs": [
    {
     "name": "stdout",
     "output_type": "stream",
     "text": [
      "True\n",
      "16\n",
      "tamaño de cadena = 97\n",
      "10\n"
     ]
    }
   ],
   "source": [
    "cadena = \"Consequat sint l@aborum anim sunt laboris sit enim sit aliqua aliqua adipisicing officia nostrud.\"\n",
    "print(\"@\" in cadena)\n",
    "print(cadena.index(\"@\"))\n",
    "# contar elementos\n",
    "print(\"tamaño de cadena =\",len(cadena))\n",
    "print(cadena.count(\"a\"))"
   ]
  },
  {
   "cell_type": "code",
   "execution_count": 121,
   "metadata": {},
   "outputs": [
    {
     "name": "stdout",
     "output_type": "stream",
     "text": [
      "tamaño de lista = 25\n",
      "contar el 8 =  3\n"
     ]
    }
   ],
   "source": [
    "lista = [1,2,3,3,3,4,5,6,6,6,7,7,8,8,9,9,9,9,9,1,0,0,2,8,10]\n",
    "print(\"tamaño de lista =\",len(lista))\n",
    "print(\"contar el 8 = \",lista.count(8))"
   ]
  },
  {
   "cell_type": "markdown",
   "metadata": {},
   "source": [
    "### Ordenar"
   ]
  },
  {
   "cell_type": "code",
   "execution_count": 126,
   "metadata": {},
   "outputs": [
    {
     "name": "stdout",
     "output_type": "stream",
     "text": [
      "True\n",
      "[0, 0, 1, 1, 2, 2, 3, 3, 3, 4, 5, 6, 6, 6, 7, 7, 8, 8, 8, 9, 9, 9, 9, 9, 10]\n",
      "[10, 9, 9, 9, 9, 9, 8, 8, 8, 7, 7, 6, 6, 6, 5, 4, 3, 3, 3, 2, 2, 1, 1, 0, 0]\n",
      "0\n",
      "10\n",
      "True\n",
      "[]\n",
      "True\n",
      "[]\n",
      "False\n"
     ]
    }
   ],
   "source": [
    "lista = [1,2,3,3,3,4,5,6,6,6,7,7,8,8,9,9,9,9,9,1,0,0,2,8,10]\n",
    "idlist = id(lista)\n",
    "print(idlist == id(lista))\n",
    "lista.sort()\n",
    "print(lista)\n",
    "lista.sort(reverse=True)\n",
    "print(lista)\n",
    "print(min(lista))\n",
    "print(max(lista))\n",
    "print(idlist == id(lista))\n",
    "lista.clear()\n",
    "print(lista)\n",
    "print(idlist == id(lista))\n",
    "lista = [1,2,3,3,3,4,5,6,6,6,7,7,8,8,9,9,9,9,9,1,0,0,2,8,10]\n",
    "lista = []\n",
    "print(lista)\n",
    "print(idlist == id(lista))\n"
   ]
  },
  {
   "cell_type": "markdown",
   "metadata": {},
   "source": [
    "### Copia\n"
   ]
  },
  {
   "cell_type": "code",
   "execution_count": 128,
   "metadata": {},
   "outputs": [
    {
     "name": "stdout",
     "output_type": "stream",
     "text": [
      "False\n",
      "False\n"
     ]
    }
   ],
   "source": [
    "lista = [1,2,3,3,3,4,5,6,6,6,7,7,8,8,9,9,9,9,9,1,0,0,2,8,10]\n",
    "lista2 = lista.copy()\n",
    "print(id(lista) == id(lista2))\n",
    "lista3 = lista[:]\n",
    "print(id(lista) == id(lista3))"
   ]
  },
  {
   "cell_type": "code",
   "execution_count": null,
   "metadata": {},
   "outputs": [],
   "source": []
  }
 ],
 "metadata": {
  "kernelspec": {
   "display_name": "Python 3.10.4 64-bit",
   "language": "python",
   "name": "python3"
  },
  "language_info": {
   "codemirror_mode": {
    "name": "ipython",
    "version": 3
   },
   "file_extension": ".py",
   "mimetype": "text/x-python",
   "name": "python",
   "nbconvert_exporter": "python",
   "pygments_lexer": "ipython3",
   "version": "3.10.4"
  },
  "orig_nbformat": 4,
  "vscode": {
   "interpreter": {
    "hash": "9524c4952dd211fec7df7c73b3afac2dbc89a267f70352ce6257a0999e7cce99"
   }
  }
 },
 "nbformat": 4,
 "nbformat_minor": 2
}
