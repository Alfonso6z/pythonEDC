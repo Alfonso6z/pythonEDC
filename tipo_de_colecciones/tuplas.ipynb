{
 "cells": [
  {
   "cell_type": "markdown",
   "metadata": {},
   "source": [
    "# Tuplas"
   ]
  },
  {
   "cell_type": "markdown",
   "metadata": {},
   "source": [
    "### Crear"
   ]
  },
  {
   "cell_type": "code",
   "execution_count": 3,
   "metadata": {},
   "outputs": [
    {
     "name": "stdout",
     "output_type": "stream",
     "text": [
      "<class 'tuple'>\n",
      "()\n"
     ]
    }
   ],
   "source": [
    "tupla = ()\n",
    "print(type(tupla))\n",
    "print(tupla)"
   ]
  },
  {
   "cell_type": "code",
   "execution_count": 4,
   "metadata": {},
   "outputs": [
    {
     "name": "stdout",
     "output_type": "stream",
     "text": [
      "(1,)\n"
     ]
    }
   ],
   "source": [
    "# tupla con un solo elemento\n",
    "tupla = 1,\n",
    "print(tupla)"
   ]
  },
  {
   "cell_type": "code",
   "execution_count": 6,
   "metadata": {},
   "outputs": [
    {
     "name": "stdout",
     "output_type": "stream",
     "text": [
      "(1, 2, 3, 4, 5, 6, 7, 8, 9, 10)\n",
      "(1, 2, 3, 4, 5)\n"
     ]
    }
   ],
   "source": [
    "# tupla con más elementos\n",
    "tupla = 1,2,3,4,5,6,7,8,9,10\n",
    "tupla2 = (1,2,3,4,5)\n",
    "print(tupla)\n",
    "print(tupla2)"
   ]
  },
  {
   "cell_type": "markdown",
   "metadata": {},
   "source": [
    "### Agragar elementos"
   ]
  },
  {
   "cell_type": "code",
   "execution_count": 10,
   "metadata": {},
   "outputs": [
    {
     "name": "stdout",
     "output_type": "stream",
     "text": [
      "(1,)\n",
      "(1, 2, 3, 4, 5)\n",
      "(1, 2, 3, 4, 5, 6, 7)\n"
     ]
    }
   ],
   "source": [
    "tupla = ()\n",
    "tupla+=(1,)\n",
    "print(tupla)\n",
    "tupla+=(2,3,4,5)\n",
    "print(tupla)\n",
    "tupla+=6,7\n",
    "print(tupla)"
   ]
  },
  {
   "cell_type": "markdown",
   "metadata": {},
   "source": [
    "### Consultar una posición"
   ]
  },
  {
   "cell_type": "code",
   "execution_count": 16,
   "metadata": {},
   "outputs": [
    {
     "name": "stdout",
     "output_type": "stream",
     "text": [
      "tupla[0] = 1\n",
      "tupla[1] = 2\n",
      "tupla[2] = 3\n",
      "tupla[3] = [4, 5, 6]\n",
      "tupla[4] = 7\n",
      "tupla[5] = ['hola', 'mundo', [True, False]]\n",
      "1\n",
      "2\n",
      "3\n",
      "[4, 5, 6]\n",
      "7\n",
      "['hola', 'mundo', [True, False]]\n"
     ]
    }
   ],
   "source": [
    "# crear tuplas con listas\n",
    "tupla = 1,2,3,[4,5,6],7,[\"hola\",\"mundo\",[True,False]]\n",
    "# tuplas son iterables\n",
    "for i in range(len(tupla)):\n",
    "    print(f\"tupla[{i}] = {tupla[i]}\")\n",
    "    \n",
    "for elemento in tupla:\n",
    "    print(elemento)"
   ]
  },
  {
   "cell_type": "markdown",
   "metadata": {},
   "source": [
    "### Existe elemento"
   ]
  },
  {
   "cell_type": "code",
   "execution_count": 36,
   "metadata": {},
   "outputs": [
    {
     "name": "stdout",
     "output_type": "stream",
     "text": [
      "False\n",
      "existe 1 en tupla? True\n",
      "existe [4,5,6] en tupla? True\n",
      "existe True en tupla? True\n",
      "existe mundo en tupla? True\n",
      "existe [\"hola\",\"mundo\",[True,False]] en tupla? True\n"
     ]
    }
   ],
   "source": [
    "tupla = 1,2,3,[4,5,6],7,[\"hola\",\"mundo\",[True,False]]\n",
    "s = \"mundo\"\n",
    "lis = [\"hola\",\"mundo\",[True,False]]\n",
    "print(tupla[5][2][1])\n",
    "print(f\"existe 1 en tupla? {1 in tupla}\")\n",
    "print(f\"existe [4,5,6] en tupla? {[4,5,6] in tupla}\")\n",
    "print(f\"existe True en tupla? {True in tupla}\")\n",
    "print(f\"existe mundo en tupla? {s in tupla[5]}\")\n",
    "print(f\"existe [\\\"hola\\\",\\\"mundo\\\",[True,False]] en tupla? {lis in tupla}\")"
   ]
  },
  {
   "cell_type": "markdown",
   "metadata": {},
   "source": [
    "### Contar elementos"
   ]
  },
  {
   "cell_type": "code",
   "execution_count": 41,
   "metadata": {},
   "outputs": [
    {
     "name": "stdout",
     "output_type": "stream",
     "text": [
      "3\n",
      "5\n",
      "19\n"
     ]
    }
   ],
   "source": [
    "tupla = (1,1,2,3,3,5,8,9,7,5,5,8,9,9,8,7,8,8,1)\n",
    "print(tupla.count(1))\n",
    "print(tupla.count(8))\n",
    "print(len(tupla))\n"
   ]
  },
  {
   "cell_type": "markdown",
   "metadata": {},
   "source": [
    "### Desempaquetado"
   ]
  },
  {
   "cell_type": "code",
   "execution_count": 44,
   "metadata": {},
   "outputs": [
    {
     "name": "stdout",
     "output_type": "stream",
     "text": [
      "nombre: Alfonso\n",
      "apellido: González\n",
      "telefono: 55468585\n",
      "estatura: 1.75\n",
      "estadoCivil: False\n",
      "lenguajes: ['Python', 'Prolog', 'R']\n"
     ]
    }
   ],
   "source": [
    "tupla = (\"Alfonso\",\"González\",55468585,1.75,False,[\"Python\",\"Prolog\",\"R\"])\n",
    "nombre = tupla[0]\n",
    "apellido = tupla[1]\n",
    "telefono = tupla[2]\n",
    "estatura = tupla[3]\n",
    "estadoCivil = tupla[4]\n",
    "lenguajes = tupla[5]\n",
    "print(f\"nombre: {nombre}\")\n",
    "print(f\"apellido: {apellido}\")\n",
    "print(f\"telefono: {telefono}\")\n",
    "print(f\"estatura: {estatura}\")\n",
    "print(f\"estadoCivil: {estadoCivil}\")\n",
    "print(f\"lenguajes: {lenguajes}\")"
   ]
  },
  {
   "cell_type": "code",
   "execution_count": 47,
   "metadata": {},
   "outputs": [
    {
     "name": "stdout",
     "output_type": "stream",
     "text": [
      "nombre: Alfonso\n",
      "apellido: González\n",
      "telefono: 55468585\n",
      "estatura: 1.75\n",
      "estadoCivil: False\n",
      "lenguajes: ['Python', 'Prolog', 'R']\n",
      "Python\n",
      "Prolog\n",
      "R\n"
     ]
    }
   ],
   "source": [
    "tupla = (\"Alfonso\",\"González\",55468585,1.75,False,[\"Python\",\"Prolog\",\"R\"])\n",
    "nombre,apellido,telefono,estatura,estadoCivil,lenguajes = tupla\n",
    "print(f\"nombre: {nombre}\")\n",
    "print(f\"apellido: {apellido}\")\n",
    "print(f\"telefono: {telefono}\")\n",
    "print(f\"estatura: {estatura}\")\n",
    "print(f\"estadoCivil: {estadoCivil}\")\n",
    "print(f\"lenguajes: {lenguajes}\")\n",
    "l1,l2,l3 = lenguajes\n",
    "print(l1)\n",
    "print(l2)\n",
    "print(l3)"
   ]
  },
  {
   "cell_type": "markdown",
   "metadata": {},
   "source": [
    "### Inmutable"
   ]
  },
  {
   "cell_type": "code",
   "execution_count": 48,
   "metadata": {},
   "outputs": [
    {
     "name": "stdout",
     "output_type": "stream",
     "text": [
      "(1, 2, 3)\n",
      "(1, 2, 3, 4, 5, 6)\n",
      "False\n"
     ]
    }
   ],
   "source": [
    "tupla = (1,2,3)\n",
    "print(tupla)\n",
    "idTupla = id(tupla)\n",
    "tupla+=(4,5,6)\n",
    "print(tupla)\n",
    "print(id(tupla) == idTupla)\n"
   ]
  },
  {
   "cell_type": "code",
   "execution_count": null,
   "metadata": {},
   "outputs": [],
   "source": []
  }
 ],
 "metadata": {
  "kernelspec": {
   "display_name": "Python 3.10.4 64-bit",
   "language": "python",
   "name": "python3"
  },
  "language_info": {
   "codemirror_mode": {
    "name": "ipython",
    "version": 3
   },
   "file_extension": ".py",
   "mimetype": "text/x-python",
   "name": "python",
   "nbconvert_exporter": "python",
   "pygments_lexer": "ipython3",
   "version": "3.10.4"
  },
  "orig_nbformat": 4,
  "vscode": {
   "interpreter": {
    "hash": "9524c4952dd211fec7df7c73b3afac2dbc89a267f70352ce6257a0999e7cce99"
   }
  }
 },
 "nbformat": 4,
 "nbformat_minor": 2
}
