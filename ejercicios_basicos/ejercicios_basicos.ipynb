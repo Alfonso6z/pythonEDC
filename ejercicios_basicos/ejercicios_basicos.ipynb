{
 "cells": [
  {
   "cell_type": "markdown",
   "metadata": {},
   "source": [
    "# Ejercicios Basicos\n"
   ]
  },
  {
   "cell_type": "markdown",
   "metadata": {},
   "source": [
    "### Ejercicio 1\n",
    "Escribir un programa que muestre por pantalla la cadena ¡Hola Mundo!."
   ]
  },
  {
   "cell_type": "code",
   "execution_count": 1,
   "metadata": {},
   "outputs": [
    {
     "name": "stdout",
     "output_type": "stream",
     "text": [
      "Hola mundo\n"
     ]
    }
   ],
   "source": [
    "print(\"Hola mundo\")"
   ]
  },
  {
   "cell_type": "markdown",
   "metadata": {},
   "source": [
    "### Ejercicio 2  \n",
    "Escribir un programa que almacene la cadena ¡Hola Mundo! en una variable y luego muestre por pantalla el contenido de la variable."
   ]
  },
  {
   "cell_type": "code",
   "execution_count": 2,
   "metadata": {},
   "outputs": [
    {
     "name": "stdout",
     "output_type": "stream",
     "text": [
      "Hola Mundo\n"
     ]
    }
   ],
   "source": [
    "# asiganar el valor \"Hola Mundo\" a la variable saludo \n",
    "saludo = \"Hola Mundo\"\n",
    "print(saludo)"
   ]
  },
  {
   "cell_type": "markdown",
   "metadata": {},
   "source": [
    "### Ejercicio 3  \n",
    "Escribir un programa que pregunte el nombre del usuario en la consola y después de que el usuario lo introduzca muestre por pantalla la cadena  ¡Hola (nombre)!, donde (nombre) es el nombre que el usuario haya introducido."
   ]
  },
  {
   "cell_type": "code",
   "execution_count": 18,
   "metadata": {},
   "outputs": [
    {
     "name": "stdout",
     "output_type": "stream",
     "text": [
      "¡Hola  Alfonso !\n",
      "¡Hola Alfonso!\n",
      "¡Hola Alfonso 7 ! 51.0 - True\n",
      "¡**** Hola Alfonso 7 ! 51.0 - True ***\n",
      " ****\n",
      "                    ¡Hola\n",
      "                        Alfonso\n",
      "                                !\n",
      "                            Y\n",
      "                        =========\n",
      "                          ADIOS\n",
      "                        =========\n",
      "\n"
     ]
    }
   ],
   "source": [
    "# pide el nombre -> dato de entrada\n",
    "nombre = input(\"Ingresa tú nombre\")\n",
    "# concatenando con comas agrega un espacio\n",
    "print(\"¡Hola \",nombre,\"!\")\n",
    "# concatenando con + no agrega espacio\n",
    "print(\"¡Hola \" + nombre + \"!\")\n",
    "# inyectamos variables a los strings\n",
    "print(f\"¡Hola {nombre} {len(nombre)} ! {100/2 + 1} - {True or False}\")\n",
    "saludo = f\"¡**** Hola {nombre} {len(nombre)} ! {100/2 + 1} - {True or False} ***\"\n",
    "print(saludo)\n",
    "#\n",
    "print(f''' ****\n",
    "                    ¡Hola\n",
    "                        {nombre}\n",
    "                                !\n",
    "                            Y\n",
    "                        =========\n",
    "                          ADIOS\n",
    "                        =========\n",
    "''')"
   ]
  },
  {
   "cell_type": "code",
   "execution_count": 12,
   "metadata": {},
   "outputs": [
    {
     "name": "stdout",
     "output_type": "stream",
     "text": [
      "Que tal Alfonso!\n"
     ]
    }
   ],
   "source": [
    "import random\n",
    "s = [\"¡Hola \",\"¡Que tal \",\"¡Que onda \",\"Como estas \",\"¡Hello \"]\n",
    "nombre = input(\"Ingresa tú nombre\")\n",
    "saludo = s[random.randint(1,len(s)-1)] + nombre + \"!\"\n",
    "print(saludo)"
   ]
  },
  {
   "cell_type": "markdown",
   "metadata": {},
   "source": [
    "### Ejercicio 4\n",
    "Escribir un programa que pregunte el nombre del usuario en la consola y un número entero e imprima por pantalla en líneas distintas el nombre del usuario tantas veces como el número introducido."
   ]
  },
  {
   "cell_type": "code",
   "execution_count": 1,
   "metadata": {},
   "outputs": [
    {
     "name": "stdout",
     "output_type": "stream",
     "text": [
      "1.- Alfonso\n",
      "2.- Alfonso\n",
      "3.- Alfonso\n",
      "4.- Alfonso\n",
      "5.- Alfonso\n",
      "6.- Alfonso\n"
     ]
    }
   ],
   "source": [
    "nombre = input(\"Ingresa tú nombre\")\n",
    "n = int(input(\"Dame un número\"))\n",
    "\"\"\"\n",
    "Para i = 1 hasta 10 hacer\n",
    "    Escribir nombre\n",
    "FinPara\n",
    "# condición i<n, range(inicio,final) donde la condición inicio<final ejemplo range(5,10) i<10 -> 5,6,7,8,9\n",
    "for i in range(1,10+1):\n",
    "    print(i)\n",
    "\"\"\"\n",
    "# i = 0,i<n\n",
    "for i in range(n):\n",
    "    print(f\"{i+1}.- {nombre}\")"
   ]
  },
  {
   "cell_type": "markdown",
   "metadata": {},
   "source": [
    "### Ejercicio 5  \n",
    "Escribir un programa que pregunte el nombre del usuario en la consola y después de que el usuario lo introduzca muestre por pantalla NOMBRE tiene n letras, donde NOMBRE es el nombre de usuario en mayúsculas y n es el número de letras que tienen el nombre."
   ]
  },
  {
   "cell_type": "code",
   "execution_count": 2,
   "metadata": {},
   "outputs": [
    {
     "name": "stdout",
     "output_type": "stream",
     "text": [
      "El nombre: ALFONSO tiene 7 letras\n"
     ]
    }
   ],
   "source": [
    "nombre = input(\"Ingresa tu nombre: \")\n",
    "# el metodo uppper() pasa un string a mayusculas\n",
    "nombre = nombre.upper()\n",
    "# el metodo len(str) indica el tamaño del string\n",
    "largo = len(nombre)\n",
    "\n",
    "print(\"El nombre:\", nombre, \"tiene\", largo, \"letras\")"
   ]
  },
  {
   "cell_type": "markdown",
   "metadata": {},
   "source": [
    "### Ejercicio 6  \n",
    "Escribir un programa que pregunte al usuario por el número de horas trabajadas y el coste por hora. Después debe mostrar por pantalla la paga que le corresponde."
   ]
  },
  {
   "cell_type": "code",
   "execution_count": 14,
   "metadata": {},
   "outputs": [
    {
     "name": "stdout",
     "output_type": "stream",
     "text": [
      "La paga que te corresponde es de $100.0\n"
     ]
    }
   ],
   "source": [
    "# casting a entero porque no se pagaran fracciónes de hora\n",
    "horas_trabajadas = int(input(\"Ingresa el número de horas trabajadas\"))\n",
    "# casting a real(float) porque todas las divisas manejan centavos\n",
    "precio_por_hora = float(input(\"Ingresa el precio por hora\"))\n",
    "# se calcula la paga con una multiplicación\n",
    "paga = horas_trabajadas * precio_por_hora\n",
    "# mostrar resultados\n",
    "print(f\"La paga que te corresponde es de ${paga}\")"
   ]
  },
  {
   "cell_type": "markdown",
   "metadata": {},
   "source": [
    "\n",
    "\n",
    "### Ejercicio 7  \n",
    "Pedir el precio de un producto y calcular su IVA (21%) y su valor original"
   ]
  },
  {
   "cell_type": "code",
   "execution_count": 12,
   "metadata": {},
   "outputs": [
    {
     "name": "stdout",
     "output_type": "stream",
     "text": [
      " Precio original = $100.0\n",
      "iva = $21.0\n",
      "total = $121.0 \n"
     ]
    }
   ],
   "source": [
    "# casting a float porque son pesos\n",
    "precio = float(input(\"Ingresa el precio del producto\"))\n",
    "# regla de tres\n",
    "precio_original = (precio*100)/121\n",
    "# calcula iva\n",
    "iva = .21 * precio_original\n",
    "# muestra resulatados\n",
    "print(f''' Precio original = ${precio_original}\n",
    "iva = ${iva}\n",
    "total = ${precio} ''')"
   ]
  },
  {
   "cell_type": "markdown",
   "metadata": {},
   "source": [
    "### Ejercicio 8  \n",
    "Ingresar dos números y mostrar el menor de ellos\n",
    "\n"
   ]
  },
  {
   "cell_type": "code",
   "execution_count": 20,
   "metadata": {},
   "outputs": [
    {
     "name": "stdout",
     "output_type": "stream",
     "text": [
      "6.0 es mayor que 5.0\n"
     ]
    }
   ],
   "source": [
    "n1 = float(input(\"Ingresa el primer número\"))\n",
    "n2 = float(input(\"Ingresa el segundo número\"))\n",
    "\n",
    "if n1 == n2:\n",
    "    print(\"Son iguales\")\n",
    "else:\n",
    "    if n1<n2:\n",
    "        print(f\"{n2} es mayor que {n1}\" )\n",
    "    else:\n",
    "        print(f\"{n1} es mayor que {n2}\")\n",
    "    "
   ]
  },
  {
   "cell_type": "markdown",
   "metadata": {},
   "source": [
    "### Ejemplos - 6,7,8"
   ]
  },
  {
   "cell_type": "code",
   "execution_count": 11,
   "metadata": {},
   "outputs": [
    {
     "name": "stdout",
     "output_type": "stream",
     "text": [
      "El IVA de su producto es  25.41  pesos y su precio original es  95.59 pesos\n"
     ]
    }
   ],
   "source": [
    "precio=float(input(\"Ingresa el precio del producto: \"))\n",
    "iva=precio*0.21\n",
    "valor_original=precio-iva\n",
    "print(\"El IVA de su producto es \", iva, \" pesos y su precio original es \", valor_original, \"pesos\")"
   ]
  },
  {
   "cell_type": "code",
   "execution_count": 13,
   "metadata": {},
   "outputs": [
    {
     "name": "stdout",
     "output_type": "stream",
     "text": [
      "Tu paga es  100.0\n"
     ]
    }
   ],
   "source": [
    "horas = float(input(\"Introduce las horas trabajadas\"))\n",
    "costo = float(input(\"Introduce el costo por hora\"))\n",
    "paga =  horas * costo\n",
    "print(\"Tu paga es \",paga)"
   ]
  },
  {
   "cell_type": "code",
   "execution_count": 27,
   "metadata": {},
   "outputs": [
    {
     "name": "stdout",
     "output_type": "stream",
     "text": [
      "primer else\n",
      "segundo else\n",
      "El número menor es 5\n"
     ]
    }
   ],
   "source": [
    "n1 = (int(input ( \"Ingresa el primer número número\"))) # 10\n",
    "n2 = (int(input( \"Ingresa el segundo número\"))) # 5\n",
    "# si 10 < 5 => Falso\n",
    "if n1<n2:\n",
    "    print(\"primer if\")\n",
    "    print(\"El número menor es\", n1)\n",
    "else:\n",
    "    print(\"primer else\")\n",
    "    if n1 == n2:\n",
    "        print(\"segundo if\")\n",
    "        print(\"Son iguales\")\n",
    "    else:\n",
    "        print(\"segundo else\")\n",
    "        print(\"El número menor es\", n2)"
   ]
  },
  {
   "cell_type": "markdown",
   "metadata": {},
   "source": [
    "### Ejercicio 9\n",
    "Pedir al usuario su edad y mostrar si es mayor o no de edad"
   ]
  },
  {
   "cell_type": "code",
   "execution_count": 3,
   "metadata": {},
   "outputs": [
    {
     "name": "stdout",
     "output_type": "stream",
     "text": [
      "Eres mayor de edad\n"
     ]
    }
   ],
   "source": [
    "# pedir el dato de entrada\n",
    "edad = int(input(\"Ingresa tú edad\"))\n",
    "# estructura de control bicondicional\n",
    "if 18 <= edad:\n",
    "    print(\"Eres mayor de edad\")\n",
    "else:\n",
    "    print(\"No eres mayor de edad\")\n"
   ]
  },
  {
   "cell_type": "markdown",
   "metadata": {},
   "source": [
    "\n",
    "\n",
    "### Ejercicio 10  \n",
    "Escribir un programa que pida al usuario una palabra y la muestre por pantalla 10 veces."
   ]
  },
  {
   "cell_type": "code",
   "execution_count": 8,
   "metadata": {},
   "outputs": [
    {
     "name": "stdout",
     "output_type": "stream",
     "text": [
      "0 hola\n",
      "1 hola\n",
      "2 hola\n",
      "3 hola\n",
      "4 hola\n",
      "5 hola\n",
      "6 hola\n",
      "7 hola\n",
      "8 hola\n",
      "9 hola\n"
     ]
    }
   ],
   "source": [
    "palabra = input(\"Ingresa una palabra\")\n",
    "\n",
    "for i in range(10):\n",
    "    print(i,palabra)"
   ]
  },
  {
   "cell_type": "markdown",
   "metadata": {},
   "source": [
    "\n",
    "\n",
    "### Ejercicio 11  \n",
    "Escribir un programa que pida al usuario un número entero y muestre por pantalla si es par o impar."
   ]
  },
  {
   "cell_type": "code",
   "execution_count": 11,
   "metadata": {},
   "outputs": [
    {
     "name": "stdout",
     "output_type": "stream",
     "text": [
      " 44 es par\n"
     ]
    }
   ],
   "source": [
    "# pedir un número entero\n",
    "entero = int(input(\"Ingresa un número entero\"))\n",
    "# vericar si es impar\n",
    "if entero % 2 == 0:\n",
    "    print(f\" {entero} es par\")\n",
    "else:\n",
    "    print(f\" {entero} es imparpar\")"
   ]
  },
  {
   "cell_type": "markdown",
   "metadata": {},
   "source": [
    "\n",
    "\n",
    "### Ejercicio 12  \n",
    "Escribir un programa que pida al usuario un número entero positivo y muestre por pantalla todos los números impares desde 1 hasta ese número separados por comas."
   ]
  },
  {
   "cell_type": "code",
   "execution_count": 18,
   "metadata": {},
   "outputs": [
    {
     "name": "stdout",
     "output_type": "stream",
     "text": [
      "1,3,5,7,9,11,13,15"
     ]
    }
   ],
   "source": [
    "'''\n",
    "    Entra: 15\n",
    "    Salida: 1,3,5,7,9,11,13,15\n",
    "    Algoritmo\n",
    "        1 .- pedir un número\n",
    "        2.- establecer el rango [1,n] // [1,15]\n",
    "        3.- recorrer el rango y vericar los números impares\n",
    "        4.- mostrarlos en pantalla\n",
    "'''\n",
    "# pedir un número entero\n",
    "n = int(input(\"Ingresa un número entero\"))\n",
    "for i in range(1,n+1):\n",
    "    if i % 2 != 0:\n",
    "        if i != n:\n",
    "            print(i,end=\",\")\n",
    "        else:\n",
    "            print(i,end=\"\")"
   ]
  },
  {
   "cell_type": "code",
   "execution_count": 20,
   "metadata": {},
   "outputs": [
    {
     "name": "stdout",
     "output_type": "stream",
     "text": [
      "1,3,5,7,9,11,13,15"
     ]
    }
   ],
   "source": [
    "# pedir un número entero\n",
    "n = int(input(\"Ingresa un número entero\"))\n",
    "i = 1\n",
    "while(i<=n):\n",
    "    if i % 2 != 0:\n",
    "        if i != n:\n",
    "            print(i,end=\",\")\n",
    "        else:\n",
    "            print(i,end=\"\")\n",
    "    i+=1"
   ]
  },
  {
   "cell_type": "code",
   "execution_count": 21,
   "metadata": {},
   "outputs": [
    {
     "name": "stdout",
     "output_type": "stream",
     "text": [
      "1,3,5,7,9,11,13,15"
     ]
    }
   ],
   "source": [
    "# pedir un número entero\n",
    "n = int(input(\"Ingresa un número entero\"))\n",
    "i = 1\n",
    "while True:\n",
    "    if i % 2 != 0:\n",
    "        if i != n:\n",
    "            print(i,end=\",\")\n",
    "        else:\n",
    "            print(i,end=\"\")\n",
    "            break\n",
    "    i+=1"
   ]
  },
  {
   "cell_type": "markdown",
   "metadata": {},
   "source": [
    "### Ejercicio 13  \n",
    "Escribir un programa que pida al usuario un número entero positivo y muestre por pantalla la cuenta atrás desde ese número hasta cero separados por comas."
   ]
  },
  {
   "cell_type": "code",
   "execution_count": 74,
   "metadata": {},
   "outputs": [
    {
     "name": "stdout",
     "output_type": "stream",
     "text": [
      "10,9,8,7,6,5,4,3,2,1,0"
     ]
    }
   ],
   "source": [
    "'''\n",
    "    Entrada: n\n",
    "    Salida: n, n-1, n-2, ... ,3,2,1\n",
    "'''\n",
    "n = int(input(\"Ingresa un número\"))\n",
    "inicio = 0\n",
    "for i in range(n,inicio-1,-1):\n",
    "    if i != inicio:\n",
    "        print(i,end=\",\")\n",
    "    else:\n",
    "        print(i,end=\"\")"
   ]
  },
  {
   "cell_type": "code",
   "execution_count": 26,
   "metadata": {},
   "outputs": [
    {
     "name": "stdout",
     "output_type": "stream",
     "text": [
      "10,9,8,7,6,5,4,3,2,1"
     ]
    }
   ],
   "source": [
    "n = int(input(\"Ingresa un número\"))\n",
    "i = n\n",
    "while (i>=1):\n",
    "    if i != 1:\n",
    "        print(i,end=\",\")\n",
    "    else:\n",
    "        print(i,end=\"\")\n",
    "    i-=1"
   ]
  },
  {
   "cell_type": "code",
   "execution_count": 27,
   "metadata": {},
   "outputs": [
    {
     "name": "stdout",
     "output_type": "stream",
     "text": [
      "10,9,8,7,6,5,4,3,2,1"
     ]
    }
   ],
   "source": [
    "n = int(input(\"Ingresa un número\"))\n",
    "i = n\n",
    "while True:\n",
    "    if i != 1:\n",
    "        print(i,end=\",\")\n",
    "    else:\n",
    "        print(i,end=\"\")\n",
    "        break\n",
    "    i-=1"
   ]
  },
  {
   "cell_type": "markdown",
   "metadata": {},
   "source": [
    "### Ejercicio 14  \n",
    "Escribir un programa que pida al usuario un número entero y muestre por pantalla un triángulo rectángulo.\n",
    "\n"
   ]
  },
  {
   "cell_type": "code",
   "execution_count": 38,
   "metadata": {},
   "outputs": [
    {
     "name": "stdout",
     "output_type": "stream",
     "text": [
      "*\n",
      "*******\n"
     ]
    }
   ],
   "source": [
    "'''\n",
    "    Entrada: 6\n",
    "    Salida:\n",
    "            *\n",
    "            **\n",
    "            ***\n",
    "            ****\n",
    "            *****\n",
    "            ******\n",
    "'''\n",
    "n = int(input(\"Ingresa un número\"))\n",
    "t = \"*\"\n",
    "for i in (1,n+1):\n",
    "    print(t*i)"
   ]
  },
  {
   "cell_type": "code",
   "execution_count": 40,
   "metadata": {},
   "outputs": [
    {
     "name": "stdout",
     "output_type": "stream",
     "text": [
      "*\n",
      "**\n",
      "***\n",
      "****\n",
      "*****\n",
      "******\n"
     ]
    }
   ],
   "source": [
    "n = int(input(\"Ingresa un número\"))\n",
    "t = \"\"\n",
    "for i in range(n):\n",
    "    t = t + \"*\"\n",
    "    print(t)"
   ]
  },
  {
   "cell_type": "code",
   "execution_count": 41,
   "metadata": {},
   "outputs": [
    {
     "name": "stdout",
     "output_type": "stream",
     "text": [
      "*\n",
      "**\n",
      "***\n",
      "****\n",
      "*****\n",
      "******\n"
     ]
    }
   ],
   "source": [
    "n = int(input(\"Ingresa un número\"))\n",
    "t = \"\"\n",
    "i = 0\n",
    "while i < n:\n",
    "    t = t + \"*\"\n",
    "    print(t)\n",
    "    i+=1"
   ]
  },
  {
   "cell_type": "code",
   "execution_count": 42,
   "metadata": {},
   "outputs": [
    {
     "name": "stdout",
     "output_type": "stream",
     "text": [
      "*\n",
      "**\n",
      "***\n"
     ]
    }
   ],
   "source": [
    "n = int(input(\"Ingresa un número\"))\n",
    "t = \"\"\n",
    "i = 0\n",
    "while True:\n",
    "    t = t + \"*\"\n",
    "    print(t)\n",
    "    i+=1\n",
    "    if i == n:\n",
    "        break"
   ]
  },
  {
   "cell_type": "markdown",
   "metadata": {},
   "source": [
    "### Ejercicio 15\n",
    "Escribir un programa que muestre por pantalla la tabla de multiplicar del 1 al 10."
   ]
  },
  {
   "cell_type": "code",
   "execution_count": 43,
   "metadata": {},
   "outputs": [
    {
     "name": "stdout",
     "output_type": "stream",
     "text": [
      "TABLA DEL 1\n",
      "1 * 1 = 1\n",
      "1 * 2 = 2\n",
      "1 * 3 = 3\n",
      "1 * 4 = 4\n",
      "1 * 5 = 5\n",
      "1 * 6 = 6\n",
      "1 * 7 = 7\n",
      "1 * 8 = 8\n",
      "1 * 9 = 9\n",
      "1 * 10 = 10\n",
      "TABLA DEL 2\n",
      "2 * 1 = 2\n",
      "2 * 2 = 4\n",
      "2 * 3 = 6\n",
      "2 * 4 = 8\n",
      "2 * 5 = 10\n",
      "2 * 6 = 12\n",
      "2 * 7 = 14\n",
      "2 * 8 = 16\n",
      "2 * 9 = 18\n",
      "2 * 10 = 20\n",
      "TABLA DEL 3\n",
      "3 * 1 = 3\n",
      "3 * 2 = 6\n",
      "3 * 3 = 9\n",
      "3 * 4 = 12\n",
      "3 * 5 = 15\n",
      "3 * 6 = 18\n",
      "3 * 7 = 21\n",
      "3 * 8 = 24\n",
      "3 * 9 = 27\n",
      "3 * 10 = 30\n",
      "TABLA DEL 4\n",
      "4 * 1 = 4\n",
      "4 * 2 = 8\n",
      "4 * 3 = 12\n",
      "4 * 4 = 16\n",
      "4 * 5 = 20\n",
      "4 * 6 = 24\n",
      "4 * 7 = 28\n",
      "4 * 8 = 32\n",
      "4 * 9 = 36\n",
      "4 * 10 = 40\n",
      "TABLA DEL 5\n",
      "5 * 1 = 5\n",
      "5 * 2 = 10\n",
      "5 * 3 = 15\n",
      "5 * 4 = 20\n",
      "5 * 5 = 25\n",
      "5 * 6 = 30\n",
      "5 * 7 = 35\n",
      "5 * 8 = 40\n",
      "5 * 9 = 45\n",
      "5 * 10 = 50\n",
      "TABLA DEL 6\n",
      "6 * 1 = 6\n",
      "6 * 2 = 12\n",
      "6 * 3 = 18\n",
      "6 * 4 = 24\n",
      "6 * 5 = 30\n",
      "6 * 6 = 36\n",
      "6 * 7 = 42\n",
      "6 * 8 = 48\n",
      "6 * 9 = 54\n",
      "6 * 10 = 60\n",
      "TABLA DEL 7\n",
      "7 * 1 = 7\n",
      "7 * 2 = 14\n",
      "7 * 3 = 21\n",
      "7 * 4 = 28\n",
      "7 * 5 = 35\n",
      "7 * 6 = 42\n",
      "7 * 7 = 49\n",
      "7 * 8 = 56\n",
      "7 * 9 = 63\n",
      "7 * 10 = 70\n",
      "TABLA DEL 8\n",
      "8 * 1 = 8\n",
      "8 * 2 = 16\n",
      "8 * 3 = 24\n",
      "8 * 4 = 32\n",
      "8 * 5 = 40\n",
      "8 * 6 = 48\n",
      "8 * 7 = 56\n",
      "8 * 8 = 64\n",
      "8 * 9 = 72\n",
      "8 * 10 = 80\n",
      "TABLA DEL 9\n",
      "9 * 1 = 9\n",
      "9 * 2 = 18\n",
      "9 * 3 = 27\n",
      "9 * 4 = 36\n",
      "9 * 5 = 45\n",
      "9 * 6 = 54\n",
      "9 * 7 = 63\n",
      "9 * 8 = 72\n",
      "9 * 9 = 81\n",
      "9 * 10 = 90\n"
     ]
    }
   ],
   "source": [
    "for i in range(1,9+1):\n",
    "    print(f\"TABLA DEL {i}\")\n",
    "    for j in range(1,10+1):\n",
    "        print(f\"{i} * {j} = {i*j}\")"
   ]
  },
  {
   "cell_type": "markdown",
   "metadata": {},
   "source": [
    "### Ejercicio 16\n",
    "Escribir un programa que pida al usuario una palabra y luego muestre por pantalla una a una las letras de la palabra introducida empezando por la última.\n",
    "\n"
   ]
  },
  {
   "cell_type": "code",
   "execution_count": 55,
   "metadata": {},
   "outputs": [
    {
     "name": "stdout",
     "output_type": "stream",
     "text": [
      "A\n",
      "l\n",
      "f\n",
      "o\n",
      "n\n",
      "s\n",
      "o\n",
      "6\n",
      "z\n"
     ]
    }
   ],
   "source": [
    "palabra = \"Alfonso6z\" # [0] = H, [1] = o, ... ,[9] = o\n",
    "# tamanio = len(palabra)\n",
    "# print(tamanio)\n",
    "# print(palabra[0])\n",
    "# print(palabra[2])\n",
    "# print(palabra[tamanio-1])\n",
    "for i in range(len(palabra)):\n",
    "    print(palabra[i])"
   ]
  },
  {
   "cell_type": "code",
   "execution_count": 64,
   "metadata": {},
   "outputs": [
    {
     "name": "stdout",
     "output_type": "stream",
     "text": [
      "H\n",
      "o\n",
      "l\n",
      "a\n"
     ]
    }
   ],
   "source": [
    "palabra = input(\"Ingresa un palabra\")\n",
    "for letra in palabra:\n",
    "    print(letra)"
   ]
  },
  {
   "cell_type": "code",
   "execution_count": 75,
   "metadata": {},
   "outputs": [
    {
     "name": "stdout",
     "output_type": "stream",
     "text": [
      "odnuM aloH"
     ]
    }
   ],
   "source": [
    "'''\n",
    "    Entrada: Alfonso6z\n",
    "    Salida: z6osnoflA\n",
    "'''\n",
    "palabra = input(\"Ingresa una palabra\")\n",
    "for letra in range(len(palabra)-1,-1,-1):\n",
    "    print(palabra[letra],end=\"\")"
   ]
  },
  {
   "cell_type": "markdown",
   "metadata": {},
   "source": [
    "### Ejercicio 17\n",
    "Escribir un programa en el que se pregunte al usuario por una frase y una letra, y muestre por pantalla el número de veces que aparece la letra en la frase.\n",
    "\n"
   ]
  },
  {
   "cell_type": "code",
   "execution_count": 81,
   "metadata": {},
   "outputs": [
    {
     "name": "stdout",
     "output_type": "stream",
     "text": [
      "la letra \"e\" esta 6 veces en la frase \"aaaeeeeeeiiiooouuu\"\n"
     ]
    }
   ],
   "source": [
    "frase = input(\"Introduce una frase\")\n",
    "letra = input(\"Introduce una letra\")\n",
    "# contador inicia en cero por que no he contado nada\n",
    "cont = 0 \n",
    "for i in frase:\n",
    "    if letra == i:\n",
    "        cont+=1\n",
    "print(f\"la letra \\\"{letra}\\\" esta {cont} veces en la frase \\\"{frase}\\\"\")"
   ]
  },
  {
   "cell_type": "markdown",
   "metadata": {},
   "source": []
  }
 ],
 "metadata": {
  "kernelspec": {
   "display_name": "Python 3.10.4 64-bit",
   "language": "python",
   "name": "python3"
  },
  "language_info": {
   "codemirror_mode": {
    "name": "ipython",
    "version": 3
   },
   "file_extension": ".py",
   "mimetype": "text/x-python",
   "name": "python",
   "nbconvert_exporter": "python",
   "pygments_lexer": "ipython3",
   "version": "3.10.4"
  },
  "orig_nbformat": 4,
  "vscode": {
   "interpreter": {
    "hash": "9524c4952dd211fec7df7c73b3afac2dbc89a267f70352ce6257a0999e7cce99"
   }
  }
 },
 "nbformat": 4,
 "nbformat_minor": 2
}
