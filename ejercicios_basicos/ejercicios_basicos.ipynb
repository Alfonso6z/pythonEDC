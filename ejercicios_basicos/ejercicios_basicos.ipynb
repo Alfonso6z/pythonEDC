{
 "cells": [
  {
   "cell_type": "markdown",
   "metadata": {},
   "source": [
    "# Ejercicios Basicos\n"
   ]
  },
  {
   "cell_type": "markdown",
   "metadata": {},
   "source": [
    "### Ejercicio 1\n",
    "Escribir un programa que muestre por pantalla la cadena ¡Hola Mundo!."
   ]
  },
  {
   "cell_type": "code",
   "execution_count": 1,
   "metadata": {},
   "outputs": [
    {
     "name": "stdout",
     "output_type": "stream",
     "text": [
      "Hola mundo\n"
     ]
    }
   ],
   "source": [
    "print(\"Hola mundo\")"
   ]
  },
  {
   "cell_type": "markdown",
   "metadata": {},
   "source": [
    "### Ejercicio 2  \n",
    "Escribir un programa que almacene la cadena ¡Hola Mundo! en una variable y luego muestre por pantalla el contenido de la variable."
   ]
  },
  {
   "cell_type": "code",
   "execution_count": 2,
   "metadata": {},
   "outputs": [
    {
     "name": "stdout",
     "output_type": "stream",
     "text": [
      "Hola Mundo\n"
     ]
    }
   ],
   "source": [
    "# asiganar el valor \"Hola Mundo\" a la variable saludo \n",
    "saludo = \"Hola Mundo\"\n",
    "print(saludo)"
   ]
  },
  {
   "cell_type": "markdown",
   "metadata": {},
   "source": [
    "### Ejercicio 3  \n",
    "Escribir un programa que pregunte el nombre del usuario en la consola y después de que el usuario lo introduzca muestre por pantalla la cadena  ¡Hola (nombre)!, donde (nombre) es el nombre que el usuario haya introducido."
   ]
  },
  {
   "cell_type": "code",
   "execution_count": 18,
   "metadata": {},
   "outputs": [
    {
     "name": "stdout",
     "output_type": "stream",
     "text": [
      "¡Hola  Alfonso !\n",
      "¡Hola Alfonso!\n",
      "¡Hola Alfonso 7 ! 51.0 - True\n",
      "¡**** Hola Alfonso 7 ! 51.0 - True ***\n",
      " ****\n",
      "                    ¡Hola\n",
      "                        Alfonso\n",
      "                                !\n",
      "                            Y\n",
      "                        =========\n",
      "                          ADIOS\n",
      "                        =========\n",
      "\n"
     ]
    }
   ],
   "source": [
    "# pide el nombre -> dato de entrada\n",
    "nombre = input(\"Ingresa tú nombre\")\n",
    "# concatenando con comas agrega un espacio\n",
    "print(\"¡Hola \",nombre,\"!\")\n",
    "# concatenando con + no agrega espacio\n",
    "print(\"¡Hola \" + nombre + \"!\")\n",
    "# inyectamos variables a los strings\n",
    "print(f\"¡Hola {nombre} {len(nombre)} ! {100/2 + 1} - {True or False}\")\n",
    "saludo = f\"¡**** Hola {nombre} {len(nombre)} ! {100/2 + 1} - {True or False} ***\"\n",
    "print(saludo)\n",
    "#\n",
    "print(f''' ****\n",
    "                    ¡Hola\n",
    "                        {nombre}\n",
    "                                !\n",
    "                            Y\n",
    "                        =========\n",
    "                          ADIOS\n",
    "                        =========\n",
    "''')"
   ]
  },
  {
   "cell_type": "code",
   "execution_count": 12,
   "metadata": {},
   "outputs": [
    {
     "name": "stdout",
     "output_type": "stream",
     "text": [
      "Que tal Alfonso!\n"
     ]
    }
   ],
   "source": [
    "import random\n",
    "s = [\"¡Hola \",\"¡Que tal \",\"¡Que onda \",\"Como estas \",\"¡Hello \"]\n",
    "nombre = input(\"Ingresa tú nombre\")\n",
    "saludo = s[random.randint(1,len(s)-1)] + nombre + \"!\"\n",
    "print(saludo)"
   ]
  },
  {
   "cell_type": "markdown",
   "metadata": {},
   "source": [
    "### Ejercicio 4\n",
    "Escribir un programa que pregunte el nombre del usuario en la consola y un número entero e imprima por pantalla en líneas distintas el nombre del usuario tantas veces como el número introducido."
   ]
  },
  {
   "cell_type": "code",
   "execution_count": 1,
   "metadata": {},
   "outputs": [
    {
     "name": "stdout",
     "output_type": "stream",
     "text": [
      "1.- Alfonso\n",
      "2.- Alfonso\n",
      "3.- Alfonso\n",
      "4.- Alfonso\n",
      "5.- Alfonso\n",
      "6.- Alfonso\n"
     ]
    }
   ],
   "source": [
    "nombre = input(\"Ingresa tú nombre\")\n",
    "n = int(input(\"Dame un número\"))\n",
    "\"\"\"\n",
    "Para i = 1 hasta 10 hacer\n",
    "    Escribir nombre\n",
    "FinPara\n",
    "# condición i<n, range(inicio,final) donde la condición inicio<final ejemplo range(5,10) i<10 -> 5,6,7,8,9\n",
    "for i in range(1,10+1):\n",
    "    print(i)\n",
    "\"\"\"\n",
    "# i = 0,i<n\n",
    "for i in range(n):\n",
    "    print(f\"{i+1}.- {nombre}\")"
   ]
  },
  {
   "cell_type": "markdown",
   "metadata": {},
   "source": [
    "### Ejercicio 5  \n",
    "Escribir un programa que pregunte el nombre del usuario en la consola y después de que el usuario lo introduzca muestre por pantalla NOMBRE tiene n letras, donde NOMBRE es el nombre de usuario en mayúsculas y n es el número de letras que tienen el nombre."
   ]
  },
  {
   "cell_type": "code",
   "execution_count": 2,
   "metadata": {},
   "outputs": [
    {
     "name": "stdout",
     "output_type": "stream",
     "text": [
      "El nombre: ALFONSO tiene 7 letras\n"
     ]
    }
   ],
   "source": [
    "nombre = input(\"Ingresa tu nombre: \")\n",
    "# el metodo uppper() pasa un string a mayusculas\n",
    "nombre = nombre.upper()\n",
    "# el metodo len(str) indica el tamaño del string\n",
    "largo = len(nombre)\n",
    "\n",
    "print(\"El nombre:\", nombre, \"tiene\", largo, \"letras\")"
   ]
  },
  {
   "cell_type": "markdown",
   "metadata": {},
   "source": [
    "### Ejercicio 6  \n",
    "Escribir un programa que pregunte al usuario por el número de horas trabajadas y el coste por hora. Después debe mostrar por pantalla la paga que le corresponde."
   ]
  },
  {
   "cell_type": "code",
   "execution_count": 14,
   "metadata": {},
   "outputs": [
    {
     "name": "stdout",
     "output_type": "stream",
     "text": [
      "La paga que te corresponde es de $100.0\n"
     ]
    }
   ],
   "source": [
    "# casting a entero porque no se pagaran fracciónes de hora\n",
    "horas_trabajadas = int(input(\"Ingresa el número de horas trabajadas\"))\n",
    "# casting a real(float) porque todas las divisas manejan centavos\n",
    "precio_por_hora = float(input(\"Ingresa el precio por hora\"))\n",
    "# se calcula la paga con una multiplicación\n",
    "paga = horas_trabajadas * precio_por_hora\n",
    "# mostrar resultados\n",
    "print(f\"La paga que te corresponde es de ${paga}\")"
   ]
  },
  {
   "cell_type": "markdown",
   "metadata": {},
   "source": [
    "\n",
    "\n",
    "### Ejercicio 7  \n",
    "Pedir el precio de un producto y calcular su IVA (21%) y su valor original"
   ]
  },
  {
   "cell_type": "code",
   "execution_count": 12,
   "metadata": {},
   "outputs": [
    {
     "name": "stdout",
     "output_type": "stream",
     "text": [
      " Precio original = $100.0\n",
      "iva = $21.0\n",
      "total = $121.0 \n"
     ]
    }
   ],
   "source": [
    "# casting a float porque son pesos\n",
    "precio = float(input(\"Ingresa el precio del producto\"))\n",
    "# regla de tres\n",
    "precio_original = (precio*100)/121\n",
    "# calcula iva\n",
    "iva = .21 * precio_original\n",
    "# muestra resulatados\n",
    "print(f''' Precio original = ${precio_original}\n",
    "iva = ${iva}\n",
    "total = ${precio} ''')"
   ]
  },
  {
   "cell_type": "markdown",
   "metadata": {},
   "source": [
    "### Ejercicio 8  \n",
    "Ingresar dos números y mostrar el menor de ellos\n",
    "\n"
   ]
  },
  {
   "cell_type": "code",
   "execution_count": 20,
   "metadata": {},
   "outputs": [
    {
     "name": "stdout",
     "output_type": "stream",
     "text": [
      "6.0 es mayor que 5.0\n"
     ]
    }
   ],
   "source": [
    "n1 = float(input(\"Ingresa el primer número\"))\n",
    "n2 = float(input(\"Ingresa el segundo número\"))\n",
    "\n",
    "if n1 == n2:\n",
    "    print(\"Son iguales\")\n",
    "else:\n",
    "    if n1<n2:\n",
    "        print(f\"{n2} es mayor que {n1}\" )\n",
    "    else:\n",
    "        print(f\"{n1} es mayor que {n2}\")\n",
    "    "
   ]
  },
  {
   "cell_type": "markdown",
   "metadata": {},
   "source": [
    "### Ejemplos - 6,7,8"
   ]
  },
  {
   "cell_type": "code",
   "execution_count": 11,
   "metadata": {},
   "outputs": [
    {
     "name": "stdout",
     "output_type": "stream",
     "text": [
      "El IVA de su producto es  25.41  pesos y su precio original es  95.59 pesos\n"
     ]
    }
   ],
   "source": [
    "precio=float(input(\"Ingresa el precio del producto: \"))\n",
    "iva=precio*0.21\n",
    "valor_original=precio-iva\n",
    "print(\"El IVA de su producto es \", iva, \" pesos y su precio original es \", valor_original, \"pesos\")"
   ]
  },
  {
   "cell_type": "code",
   "execution_count": 13,
   "metadata": {},
   "outputs": [
    {
     "name": "stdout",
     "output_type": "stream",
     "text": [
      "Tu paga es  100.0\n"
     ]
    }
   ],
   "source": [
    "horas = float(input(\"Introduce las horas trabajadas\"))\n",
    "costo = float(input(\"Introduce el costo por hora\"))\n",
    "paga =  horas * costo\n",
    "print(\"Tu paga es \",paga)"
   ]
  },
  {
   "cell_type": "code",
   "execution_count": 27,
   "metadata": {},
   "outputs": [
    {
     "name": "stdout",
     "output_type": "stream",
     "text": [
      "primer else\n",
      "segundo else\n",
      "El número menor es 5\n"
     ]
    }
   ],
   "source": [
    "n1 = (int(input ( \"Ingresa el primer número número\"))) # 10\n",
    "n2 = (int(input( \"Ingresa el segundo número\"))) # 5\n",
    "# si 10 < 5 => Falso\n",
    "if n1<n2:\n",
    "    print(\"primer if\")\n",
    "    print(\"El número menor es\", n1)\n",
    "else:\n",
    "    print(\"primer else\")\n",
    "    if n1 == n2:\n",
    "        print(\"segundo if\")\n",
    "        print(\"Son iguales\")\n",
    "    else:\n",
    "        print(\"segundo else\")\n",
    "        print(\"El número menor es\", n2)"
   ]
  },
  {
   "cell_type": "code",
   "execution_count": null,
   "metadata": {},
   "outputs": [],
   "source": []
  }
 ],
 "metadata": {
  "kernelspec": {
   "display_name": "Python 3.10.4 64-bit",
   "language": "python",
   "name": "python3"
  },
  "language_info": {
   "codemirror_mode": {
    "name": "ipython",
    "version": 3
   },
   "file_extension": ".py",
   "mimetype": "text/x-python",
   "name": "python",
   "nbconvert_exporter": "python",
   "pygments_lexer": "ipython3",
   "version": "3.10.4"
  },
  "orig_nbformat": 4,
  "vscode": {
   "interpreter": {
    "hash": "9524c4952dd211fec7df7c73b3afac2dbc89a267f70352ce6257a0999e7cce99"
   }
  }
 },
 "nbformat": 4,
 "nbformat_minor": 2
}
