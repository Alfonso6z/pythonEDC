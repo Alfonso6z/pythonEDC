{
 "cells": [
  {
   "cell_type": "markdown",
   "metadata": {},
   "source": [
    "# Decoradores\n",
    "Funciones que a su vez añaden funcionalidades a otraas funciones, _por eso se les denomina decoradores porque decoran otras funciones_\n",
    "Estructura:\n",
    "- 3 funciones (A,B,C) deon de A recibe como parámetro a B para devolver C.\n",
    "- Un decorador devuelve una función\n",
    "```py\n",
    "                            def función_decoradora(función):\n",
    "                                def función_interna():\n",
    "                                    # instrucciones ...\n",
    "                                return función_interna\n",
    "```"
   ]
  },
  {
   "cell_type": "markdown",
   "metadata": {},
   "source": [
    "### Ejemplo 1"
   ]
  },
  {
   "cell_type": "code",
   "execution_count": 3,
   "metadata": {},
   "outputs": [
    {
     "name": "stdout",
     "output_type": "stream",
     "text": [
      "Voy a realizar un cálculo : \n",
      "11\n",
      "Hemos terminado el cáqlculo\n",
      "Voy a realizar un cálculo : \n",
      "6\n",
      "Hemos terminado el cáqlculo\n"
     ]
    }
   ],
   "source": [
    "def funcion_a(funcion_b):\n",
    "    def funcion_c():\n",
    "        # Acciones adicionales que decoram\n",
    "        print(\"Voy a realizar un cálculo : \")\n",
    "        funcion_b()\n",
    "        # Acciones adicionales que decoran\n",
    "        print(\"Hemos terminado el cáqlculo\")\n",
    "    return funcion_c\n",
    "\n",
    "@funcion_a\n",
    "def suma():\n",
    "    print(6+5)\n",
    "@funcion_a\n",
    "def resta():\n",
    "    print(10-4)\n",
    "\n",
    "suma()\n",
    "resta()"
   ]
  },
  {
   "cell_type": "markdown",
   "metadata": {},
   "source": [
    "### Ejemplo 2"
   ]
  },
  {
   "cell_type": "code",
   "execution_count": 11,
   "metadata": {},
   "outputs": [
    {
     "name": "stdout",
     "output_type": "stream",
     "text": [
      "Voy a realizar un cálculo : \n",
      "16\n",
      "Hemos terminado el cáqlculo\n",
      "Voy a realizar un cálculo : \n",
      "-3\n",
      "Hemos terminado el cáqlculo\n",
      "Voy a realizar un cálculo : \n",
      "125\n",
      "Hemos terminado el cáqlculo\n"
     ]
    }
   ],
   "source": [
    "def funcion_a(funcion_b):\n",
    "    def funcion_c(*args,**kwargs):\n",
    "        # Acciones adicionales que decoram\n",
    "        print(\"Voy a realizar un cálculo : \")\n",
    "        funcion_b(*args,**kwargs)\n",
    "        # Acciones adicionales que decoran\n",
    "        print(\"Hemos terminado el cáqlculo\")\n",
    "    return funcion_c\n",
    "\n",
    "@funcion_a\n",
    "def suma(a,b,c):\n",
    "    print(a+b+c)\n",
    "@funcion_a\n",
    "def resta(a,b):\n",
    "    print(a-b)\n",
    "\n",
    "@funcion_a\n",
    "def potencia(base,potencia):\n",
    "    print(pow(base,potencia))\n",
    "\n",
    "suma(7,5,4)\n",
    "resta(5,8)\n",
    "potencia(base=5,potencia=3)"
   ]
  },
  {
   "cell_type": "markdown",
   "metadata": {},
   "source": [
    "### Ejemplo 3"
   ]
  },
  {
   "cell_type": "code",
   "execution_count": 2,
   "metadata": {},
   "outputs": [
    {
     "name": "stdout",
     "output_type": "stream",
     "text": [
      "nombre: CodigoFácilito\n"
     ]
    },
    {
     "data": {
      "text/plain": [
       "11"
      ]
     },
     "execution_count": 2,
     "metadata": {},
     "output_type": "execute_result"
    }
   ],
   "source": [
    "def decorador(nombre):\n",
    "    def funcion_interna(funcion):\n",
    "        def funcion_interna_interna(*args, **kwargs):\n",
    "\n",
    "            print('nombre:', nombre)\n",
    "            return funcion(*args, **kwargs)\n",
    "\n",
    "        return funcion_interna_interna\n",
    "\n",
    "    return funcion_interna \n",
    "\n",
    "@decorador('CodigoFácilito')\n",
    "def suma(a, b):\n",
    "    return a + b\n",
    "\n",
    "suma(5,6)"
   ]
  },
  {
   "cell_type": "code",
   "execution_count": null,
   "metadata": {},
   "outputs": [],
   "source": []
  }
 ],
 "metadata": {
  "interpreter": {
   "hash": "09a5361423988323be33916b79028fd207b3fc6201bd1305bb57c30a02c00c21"
  },
  "kernelspec": {
   "display_name": "Python 3.9.12 ('base')",
   "language": "python",
   "name": "python3"
  },
  "language_info": {
   "codemirror_mode": {
    "name": "ipython",
    "version": 3
   },
   "file_extension": ".py",
   "mimetype": "text/x-python",
   "name": "python",
   "nbconvert_exporter": "python",
   "pygments_lexer": "ipython3",
   "version": "3.9.12"
  },
  "orig_nbformat": 4
 },
 "nbformat": 4,
 "nbformat_minor": 2
}
