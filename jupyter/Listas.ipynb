{
 "cells": [
  {
   "cell_type": "markdown",
   "id": "428733c0",
   "metadata": {},
   "source": [
    "# Lista tamaño 10"
   ]
  },
  {
   "cell_type": "code",
   "execution_count": null,
   "id": "94fd7362",
   "metadata": {},
   "outputs": [],
   "source": [
    "# llenar lista\n",
    "lista = [i for i in range(10)]"
   ]
  },
  {
   "cell_type": "code",
   "execution_count": null,
   "id": "6401a68d",
   "metadata": {},
   "outputs": [],
   "source": [
    "lista"
   ]
  },
  {
   "cell_type": "code",
   "execution_count": null,
   "id": "d8f3262a",
   "metadata": {},
   "outputs": [],
   "source": [
    "# crear lista vacia\n",
    "listaR = []"
   ]
  },
  {
   "cell_type": "code",
   "execution_count": null,
   "id": "87d67894",
   "metadata": {},
   "outputs": [],
   "source": [
    "# recorrer lista \n",
    "for i in range(len(lista)):\n",
    "    # llenar listaR eliminando de lista\n",
    "    listaR.append(lista.pop())\n"
   ]
  },
  {
   "cell_type": "code",
   "execution_count": null,
   "id": "72098faa",
   "metadata": {},
   "outputs": [],
   "source": [
    "listaR"
   ]
  },
  {
   "cell_type": "code",
   "execution_count": null,
   "id": "10e8d597",
   "metadata": {},
   "outputs": [],
   "source": [
    "lista"
   ]
  },
  {
   "cell_type": "markdown",
   "id": "62d140ee",
   "metadata": {},
   "source": [
    "## Ejemplo 2\n",
    "crear a un lita y guardarla en reversa"
   ]
  },
  {
   "cell_type": "code",
   "execution_count": null,
   "id": "c5e06e68",
   "metadata": {},
   "outputs": [],
   "source": [
    "# crear lista con 10 elementos\n",
    "lista = [i for i in range(10)]"
   ]
  },
  {
   "cell_type": "code",
   "execution_count": null,
   "id": "2e2a3ae5",
   "metadata": {},
   "outputs": [],
   "source": [
    "lista"
   ]
  },
  {
   "cell_type": "code",
   "execution_count": null,
   "id": "a5900de2",
   "metadata": {},
   "outputs": [],
   "source": [
    "# Crear lista vacia\n",
    "listaR = []"
   ]
  },
  {
   "cell_type": "code",
   "execution_count": null,
   "id": "7c1f61b9",
   "metadata": {},
   "outputs": [],
   "source": [
    "cont = len(lista)\n",
    "# Recorre lista sin eliminar los elementos\n",
    "for i in range(cont):\n",
    "    # agregar a listaR si elimar de lista\n",
    "    listaR.append(lista[cont-1-i])"
   ]
  },
  {
   "cell_type": "code",
   "execution_count": null,
   "id": "272742bf",
   "metadata": {},
   "outputs": [],
   "source": [
    "listaR"
   ]
  },
  {
   "cell_type": "code",
   "execution_count": null,
   "id": "85fc5fb0",
   "metadata": {},
   "outputs": [],
   "source": [
    "lista"
   ]
  },
  {
   "cell_type": "markdown",
   "id": "53d71e23",
   "metadata": {},
   "source": [
    "## Ejemplo 3\n",
    "llenar una lista elementos leidos por teclado"
   ]
  },
  {
   "cell_type": "code",
   "execution_count": null,
   "id": "d2d93943",
   "metadata": {},
   "outputs": [],
   "source": [
    "lista = []"
   ]
  },
  {
   "cell_type": "code",
   "execution_count": null,
   "id": "bdefdfde",
   "metadata": {},
   "outputs": [],
   "source": [
    "for i in range(5):\n",
    "    elemento = input(f\"Ingresa un elemento {i+1} \\n\")\n",
    "    lista.append(elemento)"
   ]
  },
  {
   "cell_type": "code",
   "execution_count": null,
   "id": "a7459846",
   "metadata": {},
   "outputs": [],
   "source": [
    "lista"
   ]
  },
  {
   "cell_type": "markdown",
   "id": "69f6d89b",
   "metadata": {},
   "source": [
    "## Recorrer un diccionario"
   ]
  },
  {
   "cell_type": "code",
   "execution_count": 5,
   "id": "14ba4263",
   "metadata": {},
   "outputs": [],
   "source": [
    "# creo el diccionario\n",
    "d ={}\n",
    "d['alfonso'] = [1,2,3,4,5,6]\n",
    "d['josé'] = [1,2,3]\n",
    "d['juan'] = [1,2,3,4,5,]\n",
    "d['marisol'] = [1,2,3,4,5,6,7]"
   ]
  },
  {
   "cell_type": "code",
   "execution_count": 9,
   "id": "c3ffa74a",
   "metadata": {},
   "outputs": [
    {
     "name": "stdout",
     "output_type": "stream",
     "text": [
      " nombre : alfonso \n",
      " calificaciones: [1, 2, 3, 4, 5, 6]\n",
      " nombre : josé \n",
      " calificaciones: [1, 2, 3]\n",
      " nombre : juan \n",
      " calificaciones: [1, 2, 3, 4, 5]\n",
      " nombre : marisol \n",
      " calificaciones: [1, 2, 3, 4, 5, 6, 7]\n"
     ]
    }
   ],
   "source": [
    "# imprime llave y valor\n",
    "for k,v in d.items():\n",
    "    print(f\" nombre : {k} \\n calificaciones: {v}\")"
   ]
  }
 ],
 "metadata": {
  "interpreter": {
   "hash": "9524c4952dd211fec7df7c73b3afac2dbc89a267f70352ce6257a0999e7cce99"
  },
  "kernelspec": {
   "display_name": "Python 3.10.4 64-bit",
   "language": "python",
   "name": "python3"
  },
  "language_info": {
   "codemirror_mode": {
    "name": "ipython",
    "version": 3
   },
   "file_extension": ".py",
   "mimetype": "text/x-python",
   "name": "python",
   "nbconvert_exporter": "python",
   "pygments_lexer": "ipython3",
   "version": "3.10.4"
  }
 },
 "nbformat": 4,
 "nbformat_minor": 5
}
