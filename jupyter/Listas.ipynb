{
 "cells": [
  {
   "cell_type": "markdown",
   "id": "428733c0",
   "metadata": {},
   "source": [
    "# Lista tamaño 10"
   ]
  },
  {
   "cell_type": "code",
   "execution_count": 1,
   "id": "94fd7362",
   "metadata": {},
   "outputs": [],
   "source": [
    "# llenar lista\n",
    "lista = [i for i in range(10)]"
   ]
  },
  {
   "cell_type": "code",
   "execution_count": 2,
   "id": "6401a68d",
   "metadata": {},
   "outputs": [
    {
     "data": {
      "text/plain": [
       "[0, 1, 2, 3, 4, 5, 6, 7, 8, 9]"
      ]
     },
     "execution_count": 2,
     "metadata": {},
     "output_type": "execute_result"
    }
   ],
   "source": [
    "lista"
   ]
  },
  {
   "cell_type": "code",
   "execution_count": 3,
   "id": "d8f3262a",
   "metadata": {},
   "outputs": [],
   "source": [
    "# crear lista vacia\n",
    "listaR = []"
   ]
  },
  {
   "cell_type": "code",
   "execution_count": 4,
   "id": "87d67894",
   "metadata": {},
   "outputs": [],
   "source": [
    "# recorrer lista \n",
    "for i in range(len(lista)):\n",
    "    # llenar listaR eliminando de lista\n",
    "    listaR.append(lista.pop())\n"
   ]
  },
  {
   "cell_type": "code",
   "execution_count": 5,
   "id": "72098faa",
   "metadata": {},
   "outputs": [
    {
     "data": {
      "text/plain": [
       "[9, 8, 7, 6, 5, 4, 3, 2, 1, 0]"
      ]
     },
     "execution_count": 5,
     "metadata": {},
     "output_type": "execute_result"
    }
   ],
   "source": [
    "listaR"
   ]
  },
  {
   "cell_type": "code",
   "execution_count": 6,
   "id": "10e8d597",
   "metadata": {},
   "outputs": [
    {
     "data": {
      "text/plain": [
       "[]"
      ]
     },
     "execution_count": 6,
     "metadata": {},
     "output_type": "execute_result"
    }
   ],
   "source": [
    "lista"
   ]
  },
  {
   "cell_type": "markdown",
   "id": "62d140ee",
   "metadata": {},
   "source": [
    "## Ejemplo 2\n",
    "crear a un lita y guardarla en reversa"
   ]
  },
  {
   "cell_type": "code",
   "execution_count": 7,
   "id": "c5e06e68",
   "metadata": {},
   "outputs": [],
   "source": [
    "# crear lista con 10 elementos\n",
    "lista = [i for i in range(10)]"
   ]
  },
  {
   "cell_type": "code",
   "execution_count": 8,
   "id": "2e2a3ae5",
   "metadata": {},
   "outputs": [
    {
     "data": {
      "text/plain": [
       "[0, 1, 2, 3, 4, 5, 6, 7, 8, 9]"
      ]
     },
     "execution_count": 8,
     "metadata": {},
     "output_type": "execute_result"
    }
   ],
   "source": [
    "lista"
   ]
  },
  {
   "cell_type": "code",
   "execution_count": 9,
   "id": "a5900de2",
   "metadata": {},
   "outputs": [],
   "source": [
    "# Crear lista vacia\n",
    "listaR = []"
   ]
  },
  {
   "cell_type": "code",
   "execution_count": 10,
   "id": "7c1f61b9",
   "metadata": {},
   "outputs": [],
   "source": [
    "cont = len(lista)\n",
    "# Recorre lista sin eliminar los elementos\n",
    "for i in range(cont):\n",
    "    # agregar a listaR si elimar de lista\n",
    "    listaR.append(lista[cont-1-i])"
   ]
  },
  {
   "cell_type": "code",
   "execution_count": 11,
   "id": "272742bf",
   "metadata": {},
   "outputs": [
    {
     "data": {
      "text/plain": [
       "[9, 8, 7, 6, 5, 4, 3, 2, 1, 0]"
      ]
     },
     "execution_count": 11,
     "metadata": {},
     "output_type": "execute_result"
    }
   ],
   "source": [
    "listaR"
   ]
  },
  {
   "cell_type": "code",
   "execution_count": 12,
   "id": "85fc5fb0",
   "metadata": {},
   "outputs": [
    {
     "data": {
      "text/plain": [
       "[0, 1, 2, 3, 4, 5, 6, 7, 8, 9]"
      ]
     },
     "execution_count": 12,
     "metadata": {},
     "output_type": "execute_result"
    }
   ],
   "source": [
    "lista"
   ]
  },
  {
   "cell_type": "markdown",
   "id": "53d71e23",
   "metadata": {},
   "source": [
    "## Ejemplo 3\n",
    "llenar una lista elementos leidos por teclado"
   ]
  },
  {
   "cell_type": "code",
   "execution_count": 13,
   "id": "d2d93943",
   "metadata": {},
   "outputs": [],
   "source": [
    "lista = []"
   ]
  },
  {
   "cell_type": "code",
   "execution_count": 14,
   "id": "bdefdfde",
   "metadata": {},
   "outputs": [],
   "source": [
    "for i in range(5):\n",
    "    elemento = input(f\"Ingresa un elemento {i+1} \\n\")\n",
    "    lista.append(elemento)"
   ]
  },
  {
   "cell_type": "code",
   "execution_count": null,
   "id": "a7459846",
   "metadata": {},
   "outputs": [],
   "source": [
    "lista"
   ]
  },
  {
   "cell_type": "markdown",
   "id": "69f6d89b",
   "metadata": {},
   "source": [
    "## Recorrer un diccionario"
   ]
  },
  {
   "cell_type": "code",
   "execution_count": 4,
   "id": "14ba4263",
   "metadata": {},
   "outputs": [],
   "source": [
    "# creo el diccionario\n",
    "d ={}\n",
    "d['alfonso'] = [1,2,3,4,5,6]\n",
    "d['josé'] = [1,2,3]\n",
    "d['juan'] = [1,2,3,4,5,]\n",
    "d['marisol'] = [1,2,3,4,5,6,7]"
   ]
  },
  {
   "cell_type": "markdown",
   "id": "440f9c0d",
   "metadata": {},
   "source": [
    "## recorrer un diccionario"
   ]
  },
  {
   "cell_type": "code",
   "execution_count": 29,
   "id": "c3ffa74a",
   "metadata": {},
   "outputs": [
    {
     "name": "stdout",
     "output_type": "stream",
     "text": [
      " nombre : alfoso \n",
      " calificaciones: [1, 2, 3, 4, 5]\n",
      " nombre : marisol \n",
      " calificaciones: [1]\n",
      " nombre : juan \n",
      " calificaciones: [3, 2, 1]\n"
     ]
    }
   ],
   "source": [
    "# imprime llave y valor\n",
    "# d.items nos regresa la tupla de su contenido (k,v)\n",
    "for k,v in d.items():\n",
    "    print(f\" nombre : {k} \\n calificaciones: {v}\")"
   ]
  },
  {
   "cell_type": "markdown",
   "id": "32f98b6a",
   "metadata": {},
   "source": [
    "#### ejemplo 2 recorrer valores de diccionario"
   ]
  },
  {
   "cell_type": "code",
   "execution_count": 5,
   "id": "8bb07783",
   "metadata": {},
   "outputs": [
    {
     "name": "stdout",
     "output_type": "stream",
     "text": [
      "Nombre:alfonso\n",
      "\tcalificaciones:1, 2, 3, 4, 5, 6\n",
      "Nombre:josé\n",
      "\tcalificaciones:1, 2, 3\n",
      "Nombre:juan\n",
      "\tcalificaciones:1, 2, 3, 4, 5\n",
      "Nombre:marisol\n",
      "\tcalificaciones:1, 2, 3, 4, 5, 6, 7\n"
     ]
    }
   ],
   "source": [
    "for k,v in d.items():\n",
    "    calf=\"\"\n",
    "    for i in range(len(v)):\n",
    "        if i == len(v)-1:\n",
    "            calf+=str(v[i])\n",
    "        else:\n",
    "            calf+=str(v[i])+\", \"\n",
    "    print(f\"Nombre:{k}\\n\\tcalificaciones:{calf}\")"
   ]
  },
  {
   "cell_type": "markdown",
   "id": "1956b734",
   "metadata": {},
   "source": []
  }
 ],
 "metadata": {
  "interpreter": {
   "hash": "09a5361423988323be33916b79028fd207b3fc6201bd1305bb57c30a02c00c21"
  },
  "kernelspec": {
   "display_name": "Python 3.9.12 ('base')",
   "language": "python",
   "name": "python3"
  },
  "language_info": {
   "codemirror_mode": {
    "name": "ipython",
    "version": 3
   },
   "file_extension": ".py",
   "mimetype": "text/x-python",
   "name": "python",
   "nbconvert_exporter": "python",
   "pygments_lexer": "ipython3",
   "version": "3.9.12"
  }
 },
 "nbformat": 4,
 "nbformat_minor": 5
}
