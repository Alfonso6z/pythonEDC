{
 "cells": [
  {
   "cell_type": "markdown",
   "metadata": {},
   "source": [
    "# Estructuras de control\n",
    "* Condicionales\n",
    "  - Simples\n",
    "  - Bicondicionales\n",
    "  - Multiples\n",
    " \n",
    "* Repetitivas\n",
    "  - Para\n",
    "  - Mientras\n",
    "  - Hacer Mientras"
   ]
  },
  {
   "cell_type": "markdown",
   "metadata": {},
   "source": [
    "### Condicional Simple"
   ]
  },
  {
   "cell_type": "code",
   "execution_count": 4,
   "metadata": {},
   "outputs": [
    {
     "name": "stdout",
     "output_type": "stream",
     "text": [
      "Hola dentro del if  False\n",
      "Instrucciones .... dentro del if False\n",
      "Instrucciones .... True\n",
      "Instrucciones .... True\n",
      "Instrucciones .... True\n"
     ]
    }
   ],
   "source": [
    "# Estructuras condicionales\n",
    "# Simple\n",
    "bandera = False\n",
    "if not bandera:\n",
    "    print(\"Hola dentro del if \", bandera)\n",
    "    print(\"Instrucciones .... dentro del if\" , bandera)\n",
    "    bandera = not bandera # False\n",
    "print(\"Instrucciones ....\",bandera)\n",
    "print(\"Instrucciones ....\",bandera)\n",
    "print(\"Instrucciones ....\",bandera)"
   ]
  },
  {
   "cell_type": "code",
   "execution_count": 25,
   "metadata": {},
   "outputs": [
    {
     "name": "stdout",
     "output_type": "stream",
     "text": [
      "No se puede dividir entre 0\n",
      "1.0\n"
     ]
    }
   ],
   "source": [
    "# ejemplo\n",
    "dividendo = int(input(\"ingresa el dividento\")) \n",
    "divisor = int(input(\"Coloca el divisor\"))\n",
    "if not divisor: # el número 0 es False para python\n",
    "    print(\"No se puede dividir entre 0\")\n",
    "    divisor = dividendo\n",
    "div = dividendo/divisor # division ideterminada n/0\n",
    "print(div)"
   ]
  },
  {
   "cell_type": "markdown",
   "metadata": {},
   "source": [
    "### Bicondicional"
   ]
  },
  {
   "cell_type": "code",
   "execution_count": 26,
   "metadata": {},
   "outputs": [
    {
     "name": "stdout",
     "output_type": "stream",
     "text": [
      "Hola dentro del else\n",
      "0\n",
      "Instrucciones ... fuera de la estructura de control\n"
     ]
    }
   ],
   "source": [
    "bandera = 0 \n",
    "if bandera: # cualquier numero difierente de 0 es True\n",
    "    print(\"Hola dentro del if\")\n",
    "    print(bandera)\n",
    "else:\n",
    "    print(\"Hola dentro del else\")\n",
    "    print(bandera)\n",
    "print(\"Instrucciones ... fuera de la estructura de control\")"
   ]
  },
  {
   "cell_type": "markdown",
   "metadata": {},
   "source": [
    "### Condición Multiple"
   ]
  },
  {
   "cell_type": "code",
   "execution_count": 31,
   "metadata": {},
   "outputs": [
    {
     "name": "stdout",
     "output_type": "stream",
     "text": [
      "No es un dia de la semana\n"
     ]
    }
   ],
   "source": [
    "opt = int(input(\"Introduce un número del 1 - 7\"))\n",
    "\n",
    "if opt == 1:\n",
    "    print(\"Lunes\")\n",
    "elif opt == 2:\n",
    "    print(\"Martes\")\n",
    "elif opt == 3:\n",
    "    print(\"Miercoles\")\n",
    "elif opt == 4:\n",
    "    print(\"Jueves\")\n",
    "elif opt == 5:\n",
    "    print(\"Viernes\")\n",
    "elif opt == 6:\n",
    "    print(\"Sábado\")\n",
    "elif opt == 7:\n",
    "    print(\"Domingo\")\n",
    "else:\n",
    "    print(\"No es un dia de la semana\")"
   ]
  },
  {
   "cell_type": "markdown",
   "metadata": {},
   "source": [
    "### Estructura repetitiva __Para__"
   ]
  },
  {
   "cell_type": "code",
   "execution_count": 33,
   "metadata": {},
   "outputs": [
    {
     "name": "stdout",
     "output_type": "stream",
     "text": [
      "2\n",
      "4\n",
      "6\n",
      "8\n",
      "10\n",
      "12\n",
      "14\n",
      "16\n",
      "18\n",
      "20\n",
      "22\n",
      "24\n",
      "26\n",
      "28\n",
      "30\n",
      "32\n",
      "34\n",
      "36\n",
      "38\n",
      "40\n",
      "42\n",
      "44\n",
      "46\n",
      "48\n",
      "50\n",
      "52\n",
      "54\n",
      "56\n",
      "58\n",
      "60\n",
      "62\n",
      "64\n",
      "66\n",
      "68\n",
      "70\n",
      "72\n",
      "74\n",
      "76\n",
      "78\n",
      "80\n",
      "82\n",
      "84\n",
      "86\n",
      "88\n",
      "90\n",
      "92\n",
      "94\n",
      "96\n",
      "98\n",
      "100\n"
     ]
    }
   ],
   "source": [
    "# - - Imprime todos los pares hasta n\n",
    "# variable inicial, condición de paro y su incremento\n",
    "# for i in range(inicial,condición,incremento):\n",
    "n = int(input(\"Ingresa un número\"))\n",
    "for i in range(2,n+1,2):\n",
    "    print(i)"
   ]
  },
  {
   "cell_type": "code",
   "execution_count": 37,
   "metadata": {},
   "outputs": [
    {
     "name": "stdout",
     "output_type": "stream",
     "text": [
      "19\n",
      "17\n",
      "15\n",
      "13\n",
      "11\n",
      "9\n",
      "7\n",
      "5\n",
      "3\n",
      "1\n"
     ]
    }
   ],
   "source": [
    "\"\"\" Imprimir números impares de n hasta 1\n",
    "    entrada: n = 20\n",
    "    salida = 19,17,15 , ... , 1\n",
    "\"\"\"\n",
    "n = 20\n",
    "# for i = 20 hasta i>0 paso -1\n",
    "for i in range(n,0,-1):\n",
    "    if i % 2 != 0: \n",
    "        print(i)"
   ]
  },
  {
   "cell_type": "code",
   "execution_count": 51,
   "metadata": {},
   "outputs": [
    {
     "name": "stdout",
     "output_type": "stream",
     "text": [
      "( 1 , 1 )-( 1 , 2 )-( 1 , 3 )-( 1 , 4 )-( 1 , 5 )-( 1 , 6 )\n",
      "\n",
      "( 2 , 1 )-( 2 , 2 )-( 2 , 3 )-( 2 , 4 )-( 2 , 5 )-( 2 , 6 )\n",
      "\n",
      "( 3 , 1 )-( 3 , 2 )-( 3 , 3 )-( 3 , 4 )-( 3 , 5 )-( 3 , 6 )\n",
      "\n",
      "( 4 , 1 )-( 4 , 2 )-( 4 , 3 )-( 4 , 4 )-( 4 , 5 )-( 4 , 6 )\n",
      "\n",
      "( 5 , 1 )-( 5 , 2 )-( 5 , 3 )-( 5 , 4 )-( 5 , 5 )-( 5 , 6 )\n",
      "\n",
      "( 6 , 1 )-( 6 , 2 )-( 6 , 3 )-( 6 , 4 )-( 6 , 5 )-( 6 , 6 )\n",
      "\n"
     ]
    }
   ],
   "source": [
    "# imprime las combinaciones de dos datos\n",
    "'''\n",
    "    Entrada: 2 dados {1,2,3,4,5,6}\n",
    "    Salida: \n",
    "        (1,1) - (1,2) - ... -(1,6)\n",
    "        (2,1) - (2,2) - ... -(2,6)\n",
    "        (3,1) - (3,2) - ... -(3,6)\n",
    "        (4,1) - (4,2) - ... -(4,6)\n",
    "        (5,1) - (5,2) - ... -(5,6)\n",
    "        (6,1) - (6,2) - ... -(6,6)\n",
    "'''\n",
    "for d1 in range(1,6+1):\n",
    "    for d2 in range(1,6+1):\n",
    "        if d2 < 6:\n",
    "            print(\"(\",d1,\",\",d2,\")\",end=\"-\")\n",
    "        else:\n",
    "            print(\"(\",d1,\",\",d2,\")\\n\")"
   ]
  },
  {
   "cell_type": "code",
   "execution_count": 53,
   "metadata": {},
   "outputs": [
    {
     "name": "stdout",
     "output_type": "stream",
     "text": [
      "TABLA DEL 1\n",
      "1*1 = 1\n",
      "1*2 = 2\n",
      "1*3 = 3\n",
      "1*4 = 4\n",
      "1*5 = 5\n",
      "1*6 = 6\n",
      "1*7 = 7\n",
      "1*8 = 8\n",
      "1*9 = 9\n",
      "1*10 = 10\n",
      "TABLA DEL 2\n",
      "2*1 = 2\n",
      "2*2 = 4\n",
      "2*3 = 6\n",
      "2*4 = 8\n",
      "2*5 = 10\n",
      "2*6 = 12\n",
      "2*7 = 14\n",
      "2*8 = 16\n",
      "2*9 = 18\n",
      "2*10 = 20\n",
      "TABLA DEL 3\n",
      "3*1 = 3\n",
      "3*2 = 6\n",
      "3*3 = 9\n",
      "3*4 = 12\n",
      "3*5 = 15\n",
      "3*6 = 18\n",
      "3*7 = 21\n",
      "3*8 = 24\n",
      "3*9 = 27\n",
      "3*10 = 30\n",
      "TABLA DEL 4\n",
      "4*1 = 4\n",
      "4*2 = 8\n",
      "4*3 = 12\n",
      "4*4 = 16\n",
      "4*5 = 20\n",
      "4*6 = 24\n",
      "4*7 = 28\n",
      "4*8 = 32\n",
      "4*9 = 36\n",
      "4*10 = 40\n",
      "TABLA DEL 5\n",
      "5*1 = 5\n",
      "5*2 = 10\n",
      "5*3 = 15\n",
      "5*4 = 20\n",
      "5*5 = 25\n",
      "5*6 = 30\n",
      "5*7 = 35\n",
      "5*8 = 40\n",
      "5*9 = 45\n",
      "5*10 = 50\n",
      "TABLA DEL 6\n",
      "6*1 = 6\n",
      "6*2 = 12\n",
      "6*3 = 18\n",
      "6*4 = 24\n",
      "6*5 = 30\n",
      "6*6 = 36\n",
      "6*7 = 42\n",
      "6*8 = 48\n",
      "6*9 = 54\n",
      "6*10 = 60\n",
      "TABLA DEL 7\n",
      "7*1 = 7\n",
      "7*2 = 14\n",
      "7*3 = 21\n",
      "7*4 = 28\n",
      "7*5 = 35\n",
      "7*6 = 42\n",
      "7*7 = 49\n",
      "7*8 = 56\n",
      "7*9 = 63\n",
      "7*10 = 70\n",
      "TABLA DEL 8\n",
      "8*1 = 8\n",
      "8*2 = 16\n",
      "8*3 = 24\n",
      "8*4 = 32\n",
      "8*5 = 40\n",
      "8*6 = 48\n",
      "8*7 = 56\n",
      "8*8 = 64\n",
      "8*9 = 72\n",
      "8*10 = 80\n",
      "TABLA DEL 9\n",
      "9*1 = 9\n",
      "9*2 = 18\n",
      "9*3 = 27\n",
      "9*4 = 36\n",
      "9*5 = 45\n",
      "9*6 = 54\n",
      "9*7 = 63\n",
      "9*8 = 72\n",
      "9*9 = 81\n",
      "9*10 = 90\n"
     ]
    }
   ],
   "source": [
    "# tablas de multiplicar\n",
    "'''\n",
    "    salida; 1x1 = 1 \n",
    "            1x2 = 2\n",
    "            ...\n",
    "            1x10 = 2\n",
    "'''\n",
    "for i in range(1,10): # n*m\n",
    "    print(f\"TABLA DEL {i}\")\n",
    "    for j in range(1,10+1):\n",
    "        print(f\"{i}*{j} = {i*j}\")"
   ]
  },
  {
   "cell_type": "markdown",
   "metadata": {},
   "source": [
    "### Mientras"
   ]
  },
  {
   "cell_type": "code",
   "execution_count": 60,
   "metadata": {},
   "outputs": [
    {
     "name": "stdout",
     "output_type": "stream",
     "text": [
      "1\n",
      "0\n",
      "Termine\n"
     ]
    }
   ],
   "source": [
    "# ciclo while tiene un número ideterminado de iteraciones\n",
    "bandera = 1\n",
    "# si la condición se cumple entra al While\n",
    "while(bandera):\n",
    "    bandera = int(input(\"Introduce un número\"))\n",
    "    print(bandera)\n",
    "print(\"Termine\")"
   ]
  },
  {
   "cell_type": "code",
   "execution_count": 67,
   "metadata": {},
   "outputs": [
    {
     "name": "stdout",
     "output_type": "stream",
     "text": [
      "1.- sumar\n",
      "2.- restar\n",
      "3.- multiplicar\n",
      "4.- dividir\n",
      "5.- salir \n",
      "\n",
      "SUMAR\n",
      "1.- sumar\n",
      "2.- restar\n",
      "3.- multiplicar\n",
      "4.- dividir\n",
      "5.- salir \n",
      "\n",
      "Adios\n"
     ]
    }
   ],
   "source": [
    "# menú\n",
    "menu = f'''1.- sumar\n",
    "2.- restar\n",
    "3.- multiplicar\n",
    "4.- dividir\n",
    "5.- salir \n",
    "'''\n",
    "continuar = True\n",
    "while continuar:\n",
    "    print(menu)\n",
    "    opt = int(input())\n",
    "    if opt == 1:\n",
    "        print(\"SUMAR\")\n",
    "    elif opt == 2:\n",
    "        print(\"RESTAR\")\n",
    "    elif opt == 3:\n",
    "        print(\"MULTIPLICAR\")\n",
    "    elif opt == 4:\n",
    "        print(\"DIVIDIR\")\n",
    "    else:\n",
    "        continuar = False\n",
    "print(\"Adios\")"
   ]
  },
  {
   "cell_type": "markdown",
   "metadata": {},
   "source": [
    "### Hacer Mientras"
   ]
  },
  {
   "cell_type": "code",
   "execution_count": 77,
   "metadata": {},
   "outputs": [
    {
     "name": "stdout",
     "output_type": "stream",
     "text": [
      "Termine contador =  1\n"
     ]
    }
   ],
   "source": [
    "cont = 0\n",
    "while True:\n",
    "    # print(\"Dentro del doWhile\")\n",
    "    cont+=1\n",
    "    if int(input(\"ingresa un número\")):\n",
    "        break # salir del ciclo\n",
    "print(\"Termine\",\"contador = \",cont)"
   ]
  },
  {
   "cell_type": "code",
   "execution_count": 79,
   "metadata": {},
   "outputs": [
    {
     "name": "stdout",
     "output_type": "stream",
     "text": [
      "***   LOGIN   ***\n",
      "Acceso ...\n",
      "Adios\n"
     ]
    }
   ],
   "source": [
    "# usuario contraseña\n",
    "u = \"admin\"\n",
    "p = \"batman\"\n",
    "while True:\n",
    "    print(\"***   LOGIN   ***\")\n",
    "    usuario = input(\"Ingresa el usuario\")\n",
    "    password = input(\"Ingresa la contraseña\")\n",
    "    if usuario == u and password == p:\n",
    "        print(\"Acceso ...\")\n",
    "        break\n",
    "    print(\"Acceso Denegado ...\")\n",
    "print(\"Adios\")"
   ]
  },
  {
   "cell_type": "code",
   "execution_count": null,
   "metadata": {},
   "outputs": [],
   "source": []
  }
 ],
 "metadata": {
  "kernelspec": {
   "display_name": "Python 3.10.4 64-bit",
   "language": "python",
   "name": "python3"
  },
  "language_info": {
   "codemirror_mode": {
    "name": "ipython",
    "version": 3
   },
   "file_extension": ".py",
   "mimetype": "text/x-python",
   "name": "python",
   "nbconvert_exporter": "python",
   "pygments_lexer": "ipython3",
   "version": "3.10.4"
  },
  "orig_nbformat": 4,
  "vscode": {
   "interpreter": {
    "hash": "9524c4952dd211fec7df7c73b3afac2dbc89a267f70352ce6257a0999e7cce99"
   }
  }
 },
 "nbformat": 4,
 "nbformat_minor": 2
}
