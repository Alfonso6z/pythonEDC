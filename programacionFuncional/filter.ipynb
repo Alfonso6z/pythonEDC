{
 "cells": [
  {
   "cell_type": "markdown",
   "metadata": {},
   "source": [
    "# Filter"
   ]
  },
  {
   "cell_type": "code",
   "execution_count": 3,
   "metadata": {},
   "outputs": [
    {
     "name": "stdout",
     "output_type": "stream",
     "text": [
      "<class 'list'>\n"
     ]
    }
   ],
   "source": [
    "superheroes = [\n",
    "    {\n",
    "        \"nombre\": \"Batman\",\n",
    "        \"editorial\": \"DC Comics\",\n",
    "        \"alter_ego\": \"Bruce Wayne\",\n",
    "        \"primera_aparicion\": \"Detective Comics #27\"\n",
    "    },\n",
    "    {\n",
    "        \"nombre\": \"Superman\",\n",
    "        \"editorial\": \"DC Comics\",\n",
    "        \"alter_ego\": \"Kal-El\",\n",
    "        \"primera_aparicion\": \"Action Comics #1\"\n",
    "    },\n",
    "    {\n",
    "        \"nombre\": \"Spider Man\",\n",
    "        \"editorial\": \"Marvel Comics\",\n",
    "        \"alter_ego\": \"Peter Parker\",\n",
    "        \"primera_aparicion\": \"Amazing Fantasy #15\"\n",
    "    },\n",
    "    {\n",
    "        \"nombre\": \"Hulk\",\n",
    "        \"editorial\": \"Marvel Comics\",\n",
    "        \"alter_ego\": \"Bruce Banner\",\n",
    "        \"primera_aparicion\": \"The Incredible Hulk #1\"\n",
    "    }\n",
    "]\n",
    "print(type(superheroes))"
   ]
  },
  {
   "cell_type": "code",
   "execution_count": 8,
   "metadata": {},
   "outputs": [
    {
     "name": "stdout",
     "output_type": "stream",
     "text": [
      "[{'nombre': 'Spider Man', 'editorial': 'Marvel Comics', 'alter_ego': 'Peter Parker', 'primera_aparicion': 'Amazing Fantasy #15'}, {'nombre': 'Hulk', 'editorial': 'Marvel Comics', 'alter_ego': 'Bruce Banner', 'primera_aparicion': 'The Incredible Hulk #1'}]\n"
     ]
    }
   ],
   "source": [
    "# x existe en superheroes, es un elemento de la lista\n",
    "super_heroesMC = filter(lambda x:x['editorial']==\"Marvel Comics\",superheroes)\n",
    "print(list(super_heroesMC))"
   ]
  },
  {
   "cell_type": "code",
   "execution_count": 9,
   "metadata": {},
   "outputs": [
    {
     "name": "stdout",
     "output_type": "stream",
     "text": [
      "[{'nombre': 'Batman', 'editorial': 'DC Comics', 'alter_ego': 'Bruce Wayne', 'primera_aparicion': 'Detective Comics #27'}, {'nombre': 'Superman', 'editorial': 'DC Comics', 'alter_ego': 'Kal-El', 'primera_aparicion': 'Action Comics #1'}]\n"
     ]
    }
   ],
   "source": [
    "super_heroesDC = filter(lambda x:x['editorial']==\"DC Comics\",superheroes)\n",
    "print(list(super_heroesDC))"
   ]
  },
  {
   "cell_type": "markdown",
   "metadata": {},
   "source": [
    "### Filtrar Pares"
   ]
  },
  {
   "cell_type": "code",
   "execution_count": 20,
   "metadata": {},
   "outputs": [
    {
     "name": "stdout",
     "output_type": "stream",
     "text": [
      "[2, 4, 6, 8, 10]\n",
      "[1, 3, 5, 7, 9]\n"
     ]
    }
   ],
   "source": [
    "def par(n):\n",
    "    if n%2==0:\n",
    "        return True\n",
    "lista = [1,2,3,4,5,6,7,8,9,10]\n",
    "lista_pares = filter(par,lista)\n",
    "print(list(lista_pares))\n",
    "lista_impares = filter(lambda x:x%2!=0,lista)\n",
    "print(list(lista_impares))"
   ]
  },
  {
   "cell_type": "markdown",
   "metadata": {},
   "source": [
    "### Filtrar por nombres que contengan \"Man\""
   ]
  },
  {
   "cell_type": "code",
   "execution_count": 29,
   "metadata": {},
   "outputs": [
    {
     "name": "stdout",
     "output_type": "stream",
     "text": [
      "True\n"
     ]
    }
   ],
   "source": [
    "nombre = \"Spider Man\"\n",
    "fracmento = \"man\"\n",
    "print(fracmento.upper() in nombre.upper()) # upper() pasar string a mayusculas"
   ]
  },
  {
   "cell_type": "code",
   "execution_count": 39,
   "metadata": {},
   "outputs": [
    {
     "data": {
      "text/plain": [
       "[{'nombre': 'Batman',\n",
       "  'editorial': 'DC Comics',\n",
       "  'alter_ego': 'Bruce Wayne',\n",
       "  'primera_aparicion': 'Detective Comics #27'},\n",
       " {'nombre': 'Superman',\n",
       "  'editorial': 'DC Comics',\n",
       "  'alter_ego': 'Kal-El',\n",
       "  'primera_aparicion': 'Action Comics #1'},\n",
       " {'nombre': 'Spider Man',\n",
       "  'editorial': 'Marvel Comics',\n",
       "  'alter_ego': 'Peter Parker',\n",
       "  'primera_aparicion': 'Amazing Fantasy #15'}]"
      ]
     },
     "execution_count": 39,
     "metadata": {},
     "output_type": "execute_result"
    }
   ],
   "source": [
    "frac = \"Man\"\n",
    "heroesMan = filter(lambda heroe:frac.lower() in heroe['nombre'].lower(),superheroes)\n",
    "list(heroesMan)"
   ]
  },
  {
   "cell_type": "code",
   "execution_count": 43,
   "metadata": {},
   "outputs": [
    {
     "name": "stdout",
     "output_type": "stream",
     "text": [
      "[6, 12, 18, 24, 30, 36, 42, 48, 54, 60, 66, 72, 78, 84, 90, 96]\n"
     ]
    }
   ],
   "source": [
    "lista = [i for i in range(1,101)]\n",
    "lista_6 = filter(lambda x:x%6 == 0,lista)\n",
    "print(list(lista_6))"
   ]
  },
  {
   "cell_type": "code",
   "execution_count": null,
   "metadata": {},
   "outputs": [],
   "source": []
  }
 ],
 "metadata": {
  "kernelspec": {
   "display_name": "Python 3.10.4 64-bit",
   "language": "python",
   "name": "python3"
  },
  "language_info": {
   "codemirror_mode": {
    "name": "ipython",
    "version": 3
   },
   "file_extension": ".py",
   "mimetype": "text/x-python",
   "name": "python",
   "nbconvert_exporter": "python",
   "pygments_lexer": "ipython3",
   "version": "3.10.4"
  },
  "orig_nbformat": 4,
  "vscode": {
   "interpreter": {
    "hash": "9524c4952dd211fec7df7c73b3afac2dbc89a267f70352ce6257a0999e7cce99"
   }
  }
 },
 "nbformat": 4,
 "nbformat_minor": 2
}
