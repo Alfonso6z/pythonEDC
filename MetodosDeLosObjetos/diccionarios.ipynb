{
 "cells": [
  {
   "cell_type": "markdown",
   "metadata": {},
   "source": [
    "# Diccionarios"
   ]
  },
  {
   "cell_type": "markdown",
   "metadata": {},
   "source": [
    "### diccionario.__get__(_k_,_str_)\n",
    "Busca el valor de la clave _k_ en el diccionario. Es equivalente a utilizar dicionario[ _k_ ] pero al utilizar este método podemos indicar en _str_ un valor a devolver por defecto sino se encuentra la clave, mientras que con la sintaxis diccionario[ _k_ ], de no existir la clave se lanzaría una excepción."
   ]
  },
  {
   "cell_type": "code",
   "execution_count": 1,
   "metadata": {},
   "outputs": [
    {
     "data": {
      "text/plain": [
       "'uno'"
      ]
     },
     "execution_count": 1,
     "metadata": {},
     "output_type": "execute_result"
    }
   ],
   "source": [
    "diccionario = {\n",
    "    1:'uno',\n",
    "    2:'dos',\n",
    "    3:'tres',\n",
    "    4:'cuatro',\n",
    "    5:'cinco',\n",
    "    6:'seis'\n",
    "}\n",
    "diccionario.get(1)"
   ]
  },
  {
   "cell_type": "code",
   "execution_count": 2,
   "metadata": {},
   "outputs": [
    {
     "data": {
      "text/plain": [
       "'No existe la clave'"
      ]
     },
     "execution_count": 2,
     "metadata": {},
     "output_type": "execute_result"
    }
   ],
   "source": [
    "diccionario.get(7,\"No existe la clave\")"
   ]
  },
  {
   "cell_type": "markdown",
   "metadata": {},
   "source": [
    "### dicionario.__has_key__(_k_) en Pyhon 3\n",
    "__has_key()__ no existe en Python 3, solo en python 2,y es equivalente a la sintaxis _k_ __in__ _diccionario_ que nos devuelve un valor boleano si la _k_ se encuentra en al diccionario"
   ]
  },
  {
   "cell_type": "code",
   "execution_count": 4,
   "metadata": {},
   "outputs": [
    {
     "name": "stdout",
     "output_type": "stream",
     "text": [
      "True\n"
     ]
    }
   ],
   "source": [
    "diccionario = {\n",
    "    1:'uno',\n",
    "    2:'dos',\n",
    "    3:'tres',\n",
    "    4:'cuatro',\n",
    "    5:'cinco',\n",
    "    6:'seis'\n",
    "}\n",
    "print(6 in diccionario)"
   ]
  },
  {
   "cell_type": "markdown",
   "metadata": {},
   "source": [
    "### diccionario.__itmes__()\n",
    "Devuelve una lista de tuplas con _claver,valor_"
   ]
  },
  {
   "cell_type": "code",
   "execution_count": 11,
   "metadata": {},
   "outputs": [
    {
     "data": {
      "text/plain": [
       "dict_items([(1, 'uno'), (2, 'dos'), (3, 'tres'), (4, 'cuatro'), (5, 'cinco'), (6, 'seis')])"
      ]
     },
     "execution_count": 11,
     "metadata": {},
     "output_type": "execute_result"
    }
   ],
   "source": [
    "diccionario = {\n",
    "    1:'uno',\n",
    "    2:'dos',\n",
    "    3:'tres',\n",
    "    4:'cuatro',\n",
    "    5:'cinco',\n",
    "    6:'seis'\n",
    "}\n",
    "diccionario.items()"
   ]
  },
  {
   "cell_type": "markdown",
   "metadata": {},
   "source": [
    "### diccionario.__pop__(_k_,_str_)\n",
    "Borra la clave del diccionario y devuelve su valor, sino se encuentra dicha clave se devuelve _str_\n",
    "si se especificó el parámetro o bien se lanza una excepción."
   ]
  },
  {
   "cell_type": "code",
   "execution_count": 14,
   "metadata": {},
   "outputs": [
    {
     "data": {
      "text/plain": [
       "'seis'"
      ]
     },
     "execution_count": 14,
     "metadata": {},
     "output_type": "execute_result"
    }
   ],
   "source": [
    "diccionario = {\n",
    "    1:'uno',\n",
    "    2:'dos',\n",
    "    3:'tres',\n",
    "    4:'cuatro',\n",
    "    5:'cinco',\n",
    "    6:'seis'\n",
    "}\n",
    "diccionario.pop(6)"
   ]
  },
  {
   "cell_type": "code",
   "execution_count": 15,
   "metadata": {},
   "outputs": [
    {
     "data": {
      "text/plain": [
       "'No existe la llave'"
      ]
     },
     "execution_count": 15,
     "metadata": {},
     "output_type": "execute_result"
    }
   ],
   "source": [
    "diccionario.pop(6,\"No existe la llave\")"
   ]
  },
  {
   "cell_type": "code",
   "execution_count": 3,
   "metadata": {},
   "outputs": [],
   "source": [
    "n = int(input(\"Ingresa un número: \")) # 5\n",
    "dic = {}\n",
    "for i in range(1,n+1):\n",
    "    dic[i] = i**2"
   ]
  },
  {
   "cell_type": "code",
   "execution_count": 4,
   "metadata": {},
   "outputs": [
    {
     "data": {
      "text/plain": [
       "{1: 1, 2: 4, 3: 9, 4: 16, 5: 25, 6: 36, 7: 49, 8: 64, 9: 81, 10: 100}"
      ]
     },
     "execution_count": 4,
     "metadata": {},
     "output_type": "execute_result"
    }
   ],
   "source": [
    "dic"
   ]
  },
  {
   "cell_type": "code",
   "execution_count": 19,
   "metadata": {},
   "outputs": [
    {
     "data": {
      "text/plain": [
       "{'n': 7,\n",
       " 'o': 3,\n",
       " ' ': 9,\n",
       " 'r': 5,\n",
       " 'e': 9,\n",
       " 'p': 3,\n",
       " 'h': 1,\n",
       " 'd': 2,\n",
       " 'i': 8,\n",
       " 't': 5,\n",
       " 's': 2,\n",
       " 'u': 4,\n",
       " 'v': 1,\n",
       " 'l': 2,\n",
       " 'a': 2,\n",
       " 'q': 1,\n",
       " 'm': 1,\n",
       " 'x': 1,\n",
       " 'c': 2,\n",
       " 'f': 2,\n",
       " '.': 1}"
      ]
     },
     "execution_count": 19,
     "metadata": {},
     "output_type": "execute_result"
    }
   ],
   "source": [
    "numeroCaracteres = {}\n",
    "cadena = input(\"Ingresa un texto: \") # Hola Mundo\n",
    "#{\"h\":1,\"o\":2,l:\"l\"}, {\"HOla Mundo\":}\n",
    "for letra in cadena:\n",
    "    if letra in numeroCaracteres:\n",
    "        numeroCaracteres[letra.lower()] += 1\n",
    "    else:\n",
    "        numeroCaracteres[letra.lower()] = 1\n",
    "numeroCaracteres\n",
    "# Non reprehenderit nostrud velit aliquip enim in excepteur officia sunt."
   ]
  },
  {
   "cell_type": "code",
   "execution_count": 17,
   "metadata": {},
   "outputs": [
    {
     "name": "stdout",
     "output_type": "stream",
     "text": [
      "True\n"
     ]
    }
   ],
   "source": [
    "dic = {\"d\":5,\"h\":4}\n",
    "print(\"d\" in dic)"
   ]
  },
  {
   "cell_type": "code",
   "execution_count": null,
   "metadata": {},
   "outputs": [],
   "source": []
  }
 ],
 "metadata": {
  "interpreter": {
   "hash": "09a5361423988323be33916b79028fd207b3fc6201bd1305bb57c30a02c00c21"
  },
  "kernelspec": {
   "display_name": "Python 3.9.12 ('base')",
   "language": "python",
   "name": "python3"
  },
  "language_info": {
   "codemirror_mode": {
    "name": "ipython",
    "version": 3
   },
   "file_extension": ".py",
   "mimetype": "text/x-python",
   "name": "python",
   "nbconvert_exporter": "python",
   "pygments_lexer": "ipython3",
   "version": "3.9.12"
  },
  "orig_nbformat": 4
 },
 "nbformat": 4,
 "nbformat_minor": 2
}
