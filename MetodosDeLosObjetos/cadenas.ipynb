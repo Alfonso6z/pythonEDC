{
 "cells": [
  {
   "cell_type": "markdown",
   "metadata": {},
   "source": [
    "# Cadenas"
   ]
  },
  {
   "cell_type": "markdown",
   "metadata": {},
   "source": [
    "### cadena.__count__(_sub_,_star_,_end_)\n",
    "Devuelve el número de veces que se encuentra _sub_ en la cadena. Los parámetros opcionales _start_ y _end_  \n",
    "definen una subcadena en la que buscar"
   ]
  },
  {
   "cell_type": "code",
   "execution_count": 5,
   "metadata": {},
   "outputs": [
    {
     "data": {
      "text/plain": [
       "16"
      ]
     },
     "execution_count": 5,
     "metadata": {},
     "output_type": "execute_result"
    }
   ],
   "source": [
    "txt = \"In ea adipisicing magna consectetur deserunt pariatur irure veniam tempor. Elit excepteur irure voluptate ullamco esse est minim nulla voluptate tempor nisi. Pariatur voluptate ad Lorem do id anim aliqua exercitation. Sit labore Lorem et sit mollit aliquip laboris. Cupidatat amet occaecat adipisicing anim minim sit cupidatat pariatur sit in est sunt.o\"\n",
    "# busca cuantas veces aparece 'o' en txt\n",
    "txt.count('o')"
   ]
  },
  {
   "cell_type": "code",
   "execution_count": 7,
   "metadata": {},
   "outputs": [
    {
     "data": {
      "text/plain": [
       "13"
      ]
     },
     "execution_count": 7,
     "metadata": {},
     "output_type": "execute_result"
    }
   ],
   "source": [
    "# buscar en la cadena txt despues de la posición 100\n",
    "txt.count('o',100)"
   ]
  },
  {
   "cell_type": "code",
   "execution_count": 11,
   "metadata": {},
   "outputs": [
    {
     "data": {
      "text/plain": [
       "1"
      ]
     },
     "execution_count": 11,
     "metadata": {},
     "output_type": "execute_result"
    }
   ],
   "source": [
    "# buscar en la cadena txt despues de la posición 100 hasta la posición 120\n",
    "txt.count('o',100,120)"
   ]
  },
  {
   "cell_type": "markdown",
   "metadata": {},
   "source": [
    "### cadena.__find__(_sub_,_star_,_end_)\n",
    "Devuelve la posición en la que se encontró por primera vez en la cadena o -1 si no se encontro"
   ]
  },
  {
   "cell_type": "code",
   "execution_count": 11,
   "metadata": {},
   "outputs": [
    {
     "name": "stdout",
     "output_type": "stream",
     "text": [
      "81\n",
      "148\n",
      "207\n",
      "269\n",
      "371\n"
     ]
    }
   ],
   "source": [
    "txt = \"Ut reprehenderit exercitation ea incididunt commodo id do Lorem. Lorem ad aliqua veniam Lorem occaecat consectetur eu qui amet culpa id non officia voluptate. Labore dolore ea magna qui consequat ut laboris voluptate aliqua ullamco laboris deserunt. Nulla exercitation veniam et pariatur aute. Elit dolore in Lorem tempor sunt ea aute mollit sunt qui. Velit laborum esse voluptate aliqua reprehenderit reprehenderit tempor sit.\"\n",
    "inicio = 0\n",
    "while True:\n",
    "    concurrencia = txt.find('v',inicio+1)\n",
    "    if concurrencia > -1:\n",
    "        inicio = concurrencia\n",
    "        print(inicio)\n",
    "    else:\n",
    "        break"
   ]
  },
  {
   "cell_type": "markdown",
   "metadata": {},
   "source": [
    "### cadena.__join__(_sequence_)\n",
    "Devuelve una cadena resultante de concatenar las cadenas de la _secuencia_ separadas por la cadena sobre la que se llama el método"
   ]
  },
  {
   "cell_type": "code",
   "execution_count": 13,
   "metadata": {},
   "outputs": [
    {
     "data": {
      "text/plain": [
       "'MholaUholaNholaDholaO'"
      ]
     },
     "execution_count": 13,
     "metadata": {},
     "output_type": "execute_result"
    }
   ],
   "source": [
    "txt = \"hola\"\n",
    "txt.join(\"MUNDO\")"
   ]
  },
  {
   "cell_type": "markdown",
   "metadata": {},
   "source": [
    "### cadena.__partiton__(_sep_)\n",
    "Busca el separador _sep_ y devuelve una tupla con la subcadena hasta dicho separador, el separador en si, y la subcadena del separador hasta el final de la cadena. Si no se encuentra el separador, la tupla contrendra la cadena en si y dos cadenas vacias."
   ]
  },
  {
   "cell_type": "code",
   "execution_count": 19,
   "metadata": {},
   "outputs": [
    {
     "data": {
      "text/plain": [
       "('Hola', '&', 'como&estas')"
      ]
     },
     "execution_count": 19,
     "metadata": {},
     "output_type": "execute_result"
    }
   ],
   "source": [
    "txt = \"Hola&como&estas\"\n",
    "txt.partition('&')"
   ]
  },
  {
   "cell_type": "markdown",
   "metadata": {},
   "source": [
    "### cadena.__replace__(_old_,_new_,_cont_)\n",
    "Devuelve una cadena en la que se han reemplazado todas las ocurrencias de la cadena _old_ por la cadena _new_. Si se especifica el parametro _count_, este indica el número máximo de ocurrencias a reemplazar."
   ]
  },
  {
   "cell_type": "code",
   "execution_count": 22,
   "metadata": {},
   "outputs": [
    {
     "data": {
      "text/plain": [
       "'perro'"
      ]
     },
     "execution_count": 22,
     "metadata": {},
     "output_type": "execute_result"
    }
   ],
   "source": [
    "txt = \"pe__o\"\n",
    "txt.replace('_','r')"
   ]
  },
  {
   "cell_type": "code",
   "execution_count": 23,
   "metadata": {},
   "outputs": [
    {
     "data": {
      "text/plain": [
       "'per_o'"
      ]
     },
     "execution_count": 23,
     "metadata": {},
     "output_type": "execute_result"
    }
   ],
   "source": [
    "txt = \"pe__o\"\n",
    "txt.replace('_','r',1)"
   ]
  },
  {
   "cell_type": "markdown",
   "metadata": {},
   "source": [
    "### cadena.__split__(_sep_,_maxsplit_)\n",
    "Devuelve una lista conteniendo las subcadenas en las que se divide nuestra cadena al dividirlas por el delimitador _sep_, se usan espacios. Si se especifica _maxsplit_, este indica el número máximo de particiones a realizar."
   ]
  },
  {
   "cell_type": "code",
   "execution_count": 28,
   "metadata": {},
   "outputs": [
    {
     "data": {
      "text/plain": [
       "['Mollit',\n",
       " 'mollit',\n",
       " 'reprehenderit',\n",
       " 'est',\n",
       " 'proident',\n",
       " 'dolor.',\n",
       " 'Elit',\n",
       " 'proident',\n",
       " 'excepteur',\n",
       " 'ea',\n",
       " 'excepteur',\n",
       " 'cupidatat',\n",
       " 'nisi',\n",
       " 'sit',\n",
       " 'pariatur.',\n",
       " 'Est',\n",
       " 'tempor',\n",
       " 'dolore',\n",
       " 'esse',\n",
       " 'minim',\n",
       " 'nulla',\n",
       " 'Lorem',\n",
       " 'sit',\n",
       " 'ad',\n",
       " 'nulla.',\n",
       " 'Qui',\n",
       " 'ex',\n",
       " 'commodo',\n",
       " 'voluptate',\n",
       " 'Lorem',\n",
       " 'elit.',\n",
       " 'Sint',\n",
       " 'reprehenderit',\n",
       " 'commodo',\n",
       " 'nisi',\n",
       " 'aliqua',\n",
       " 'et',\n",
       " 'cillum',\n",
       " 'excepteur',\n",
       " 'proident',\n",
       " 'amet.']"
      ]
     },
     "execution_count": 28,
     "metadata": {},
     "output_type": "execute_result"
    }
   ],
   "source": [
    "txt = \"Mollit mollit reprehenderit est proident dolor. Elit proident excepteur ea excepteur cupidatat nisi sit pariatur. Est tempor dolore esse minim nulla Lorem sit ad nulla. Qui ex commodo voluptate Lorem elit. Sint reprehenderit commodo nisi aliqua et cillum excepteur proident amet.\"\n",
    "txt.split()"
   ]
  },
  {
   "cell_type": "code",
   "execution_count": 29,
   "metadata": {},
   "outputs": [
    {
     "data": {
      "text/plain": [
       "['Mollit',\n",
       " 'mollit',\n",
       " 'reprehenderit',\n",
       " 'est',\n",
       " 'proident',\n",
       " 'dolor. Elit proident excepteur ea excepteur cupidatat nisi sit pariatur. Est tempor dolore esse minim nulla Lorem sit ad nulla. Qui ex commodo voluptate Lorem elit. Sint reprehenderit commodo nisi aliqua et cillum excepteur proident amet.']"
      ]
     },
     "execution_count": 29,
     "metadata": {},
     "output_type": "execute_result"
    }
   ],
   "source": [
    "txt.split(\" \",5)"
   ]
  },
  {
   "cell_type": "code",
   "execution_count": null,
   "metadata": {},
   "outputs": [],
   "source": []
  }
 ],
 "metadata": {
  "interpreter": {
   "hash": "09a5361423988323be33916b79028fd207b3fc6201bd1305bb57c30a02c00c21"
  },
  "kernelspec": {
   "display_name": "Python 3.9.12 ('base')",
   "language": "python",
   "name": "python3"
  },
  "language_info": {
   "codemirror_mode": {
    "name": "ipython",
    "version": 3
   },
   "file_extension": ".py",
   "mimetype": "text/x-python",
   "name": "python",
   "nbconvert_exporter": "python",
   "pygments_lexer": "ipython3",
   "version": "3.9.12"
  },
  "orig_nbformat": 4
 },
 "nbformat": 4,
 "nbformat_minor": 2
}
