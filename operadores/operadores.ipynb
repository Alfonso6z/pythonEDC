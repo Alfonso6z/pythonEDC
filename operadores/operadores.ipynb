{
 "cells": [
  {
   "cell_type": "markdown",
   "metadata": {},
   "source": [
    "# Operadores Aritméticos"
   ]
  },
  {
   "cell_type": "markdown",
   "metadata": {},
   "source": [
    "### Potencia"
   ]
  },
  {
   "cell_type": "code",
   "execution_count": 4,
   "metadata": {},
   "outputs": [
    {
     "name": "stdout",
     "output_type": "stream",
     "text": [
      "2^11 = 2048\n",
      "2^11 = 2048\n"
     ]
    }
   ],
   "source": [
    "# Potencia\n",
    "a = 2 # base\n",
    "b = 11 # petencia\n",
    "p = a**b # 3^5\n",
    "print(f\"{a}^{b} = {p}\")\n",
    "p1 = pow(a,b)\n",
    "print(f\"{a}^{b} = {p1}\")\n"
   ]
  },
  {
   "cell_type": "markdown",
   "metadata": {},
   "source": [
    "### Mutiplicación, división, módulo y división entera"
   ]
  },
  {
   "cell_type": "code",
   "execution_count": 19,
   "metadata": {},
   "outputs": [
    {
     "name": "stdout",
     "output_type": "stream",
     "text": [
      "suma =  24\n",
      "resta =  16\n",
      "mult =  80\n",
      "div =  5.0\n",
      "modulo =  0\n",
      "divEntera =  3\n"
     ]
    }
   ],
   "source": [
    "a = 20\n",
    "b = 4\n",
    "suma = a+b\n",
    "resta = a-b\n",
    "mult = a*b\n",
    "div = a/b # devuelve un tipo float\n",
    "modulo = a%b\n",
    "divEntera = a//6 # == int(a/6)\n",
    "print(\"suma = \",suma)\n",
    "print(\"resta = \",resta)\n",
    "print(\"mult = \",mult)\n",
    "print(\"div = \",div)\n",
    "print(\"modulo = \",modulo)\n",
    "print(\"divEntera = \",divEntera)\n"
   ]
  },
  {
   "cell_type": "markdown",
   "metadata": {},
   "source": [
    "# Operadores Relacionales"
   ]
  },
  {
   "cell_type": "code",
   "execution_count": 22,
   "metadata": {},
   "outputs": [
    {
     "name": "stdout",
     "output_type": "stream",
     "text": [
      "a==b  -> False\n",
      "a!=b  -> True\n",
      "a<b  -> True\n",
      "a>b  -> False\n",
      "a<=b  -> True\n",
      "a>b  -> False\n"
     ]
    }
   ],
   "source": [
    "a = 15\n",
    "b = 48\n",
    "print(\"a==b  ->\",a==b) # False\n",
    "print(\"a!=b  ->\",a!=b) # True\n",
    "print(\"a<b  ->\",a<b) # True\n",
    "print(\"a>b  ->\",a>b) # False\n",
    "print(\"a<=b  ->\",a<=b) # True\n",
    "print(\"a>b  ->\",a>b) # False\n"
   ]
  },
  {
   "cell_type": "markdown",
   "metadata": {},
   "source": [
    "# Operadores Lógicos"
   ]
  },
  {
   "cell_type": "code",
   "execution_count": 25,
   "metadata": {},
   "outputs": [
    {
     "name": "stdout",
     "output_type": "stream",
     "text": [
      "-------  OR --------\n",
      "V - V = True\n",
      "V - F = True\n",
      "F - V = True\n",
      "F - F = False\n",
      "-------  AND --------\n",
      "V - V = True\n",
      "V - F = False\n",
      "F - V = False\n",
      "F - F = False\n",
      "-------  NOT --------\n",
      "NOT F = True\n",
      "NOT V = False\n"
     ]
    }
   ],
   "source": [
    "V = True\n",
    "F = False\n",
    "print(\"-------  OR --------\")\n",
    "print(f\"V - V = {V or V}\")\n",
    "print(f\"V - F = {V or F}\")\n",
    "print(f\"F - V = {F or V}\")\n",
    "print(f\"F - F = {F or F}\")\n",
    "print(\"-------  AND --------\")\n",
    "print(f\"V - V = {V and V}\")\n",
    "print(f\"V - F = {V and F}\")\n",
    "print(f\"F - V = {F and V}\")\n",
    "print(f\"F - F = {F and F}\")\n",
    "print(\"-------  NOT --------\")\n",
    "print(f\"NOT F = {not F}\")\n",
    "print(f\"NOT V = {not V}\")"
   ]
  }
 ],
 "metadata": {
  "kernelspec": {
   "display_name": "Python 3.10.4 64-bit",
   "language": "python",
   "name": "python3"
  },
  "language_info": {
   "codemirror_mode": {
    "name": "ipython",
    "version": 3
   },
   "file_extension": ".py",
   "mimetype": "text/x-python",
   "name": "python",
   "nbconvert_exporter": "python",
   "pygments_lexer": "ipython3",
   "version": "3.10.4"
  },
  "orig_nbformat": 4,
  "vscode": {
   "interpreter": {
    "hash": "9524c4952dd211fec7df7c73b3afac2dbc89a267f70352ce6257a0999e7cce99"
   }
  }
 },
 "nbformat": 4,
 "nbformat_minor": 2
}
